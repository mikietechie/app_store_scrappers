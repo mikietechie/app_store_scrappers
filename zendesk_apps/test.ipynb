{
 "cells": [
  {
   "cell_type": "code",
   "execution_count": 1,
   "id": "8cd4bbde",
   "metadata": {},
   "outputs": [],
   "source": [
    "import bs4\n",
    "import pandas as pd\n",
    "import re, datetime\n",
    "def get_soup_from_file(fp):\n",
    "        with open(fp, 'r', encoding=\"UTF-8\") as file:\n",
    "            return bs4.BeautifulSoup(str(file.read()), features=\"html.parser\")"
   ]
  },
  {
   "cell_type": "code",
   "execution_count": 2,
   "id": "a5e597ec",
   "metadata": {},
   "outputs": [],
   "source": [
    "soup =  get_soup_from_file(\"app.html\")"
   ]
  },
  {
   "cell_type": "code",
   "execution_count": 31,
   "id": "550616d0",
   "metadata": {},
   "outputs": [
    {
     "data": {
      "text/plain": [
       "{'date': datetime.date(2021, 11, 12),\n",
       " 'time': '01:30:19 PM',\n",
       " 'name': 'ChannelReply',\n",
       " 'images': 'https://www.channelreply.com/images/gifs/zendesk-app/gif-0.gif, https://www.channelreply.com/images/gifs/zendesk-app/gif-1.gif, https://www.channelreply.com/images/gifs/zendesk-app/gif-2.gif',\n",
       " 'logo': 'https://77161.apps.zdusercontent.com/77161/assets/1635345341-510a0bbeef84f2d3bc6e651e9cc79070/logo.png?w=256&q=75',\n",
       " 'category': 'support',\n",
       " 'details': \"Tired of supporting each of your retail channels separately? ChannelReply integrates your Amazon, eBay, Back Market, Shopify and Walmart messaging into Zendesk. Never lose a customer in the shuffle again!\\nClick to watch ChannelReply + Zendesk demos on YouTube\\nAnswer Amazon, eBay, Back Market, Shopify & Walmart Messages\\n \\nChannelReply makes it simple to answer marketplace messages in Zendesk. No more opening new tickets for every message or watching your replies bounce back. No more scrolling through screens of pointless text. ChannelReply threads conversations into tickets, cleans up clutter, and delivers your messages reliably.\\nGet All the Data You Need\\n\\nThe ChannelReply app shows all your crucial buyer and order data beside each ticket, including:\\nBuyer Name – Item Title – SKU – Order ID – Amount Paid – Shipping Address – Order Status – Amazon Delivery Level – eBay Buyer Checkout Message – Back Market Payment Method – Shopify Shipping Fee – Walmart Fulfillment Option – Much More!\\nTake Action Inside Zendesk\\n\\nIn addition to answering messages, you can use the ChannelReply app to perform actions without leaving Zendesk:\\n\\nTrigger Amazon’s “Mark as ‘No response needed’ ” and “Request a Review” buttons\\nManage eBay returns, cancellations, and Resolution Center cases\\nUpload tracking info, issue refunds, and validate orders for Back Market\\nHandle Shopify cancellations and refunds, including partial refunds\\nCancel Walmart orders\\n\\nSee All Your Notifications\\nWe're happy to help you get all your important system notifications from Amazon, eBay, Back Market, Shopify and Walmart. Never miss a new order, return, A-to-z claim, cancellation or escalation. Please note that notification types available vary by marketplace.\\nType No Evil\\nSend replies without breaking strict marketplace rules. Set ChannelReply to automatically remove specific text like links, contact info and promotions from your replies. Plus, build a unique signature for each marketplace account you connect to make sure you're always on-brand.\\nEmpower Your Team\\nEnable your customer service team to harness the awesome power of Zendesk macros and business rules to:\\n\\nCreate automated, personalized replies to Amazon, eBay, Back Market, Shopify and Walmart messages\\nAssign buyer questions to the right customer service agent\\nSet priority levels for marketplace messages\\nKeep buyers in the loop, regardless of specific ticket status\\nInvent powerful, time-saving workflows unique to your business\\n\\nGet Started\\nMake multichannel support pain-free. Create a ChannelReply account at https://www.channelreply.com/sign-up to begin your free trial, or visit our homepage at https://www.channelreply.com/ to learn more.\",\n",
       " 'rating_count': '164',\n",
       " 'rating': '4',\n",
       " 'tagline': 'Integrate Amazon, eBay, Back Market, Shopify & Walmart messaging with Zendesk',\n",
       " 'priceline': 'Free',\n",
       " 'developer': 'ChannelReply',\n",
       " 'timeline': 'Integrate Amazon, eBay, Back Market, Shopify & Walmart messaging with Zendesk',\n",
       " 'info': 'Ticketing System',\n",
       " 'version': '2.0.2'}"
      ]
     },
     "execution_count": 31,
     "metadata": {},
     "output_type": "execute_result"
    }
   ],
   "source": [
    "def scape_app_data(soup: bs4.BeautifulSoup):\n",
    "    app_data = {\"date\": datetime.date.today(), \"time\": datetime.datetime.utcnow().strftime(\"%r\")}\n",
    "    try: app_data[\"name\"] = soup.select_one(\".description-wrapper .title-container h3\").text.strip()\n",
    "    except: app_data[\"name\"] = None\n",
    "    try: app_data[\"images\"] = \", \".join([md[\"src\"] for md in soup.select(\"div.product-description img\")])\n",
    "    except: app_data[\"images\"] = None\n",
    "    try: app_data[\"logo\"] = soup.select_one('img[alt=\"Logo\"]')[\"src\"]\n",
    "    except: app_data[\"logo\"] = None\n",
    "    try: app_data[\"category\"] = soup.select_one(\".product-title\").text.strip()\n",
    "    except: app_data[\"category\"] = None\n",
    "    try: app_data[\"details\"] = soup.select_one(\"div.product-description\").text.strip()\n",
    "    except: app_data[\"details\"] = None\n",
    "    try: app_data[\"rating_count\"] = re.search(\"[0-9]+\", soup.select_one(\"span.rating-count\").text.strip()).group()\n",
    "    except: app_data[\"rating_count\"] = None\n",
    "    try: app_data[\"rating\"] = re.search(\"[0-9]+\", soup.select_one(\".rating-number\").text.strip()).group()\n",
    "    except: app_data[\"rating\"] = None\n",
    "    try: app_data[\"tagline\"] = soup.select_one(\".description-wrapper p\").text.strip()\n",
    "    except: app_data[\"tagline\"] = None\n",
    "    try: app_data[\"priceline\"] = [div.select_one(\"div:last-child\").text.strip() for div in soup.select(\".details-panel .detail-item\") if \"PRICE\" in div.text.upper()][0]\n",
    "    except: app_data[\"priceline\"] = \"Paid\"\n",
    "    try: app_data[\"developer\"] = [spacer.text.strip() for spacer in soup.select(\".sidebar .details .spacer\") if \"Published by\" in spacer.text][0]\n",
    "    except: app_data[\"developer\"] = None\n",
    "    try: app_data[\"timeline\"] = soup.select_one(\".description-wrapper p\").text.strip()\n",
    "    except: app_data[\"timeline\"] = None\n",
    "    try: app_data[\"info\"] = soup.select_one(\".product-desc\").text.strip()\n",
    "    except: app_data[\"info\"] = None\n",
    "    try: app_data[\"developer\"] = [div.select_one(\"div:last-child\").text.strip() for div in soup.select(\".details-panel .detail-item\") if \"AUTHOR\" in div.text.upper()][0]\n",
    "    except: app_data[\"developer\"] = None\n",
    "    try: app_data[\"version\"] = [div.select_one(\"div:last-child\").text.strip() for div in soup.select(\".details-panel .detail-item\") if \"VERSION\" in div.text.upper()][0]\n",
    "    except: app_data[\"version\"] = None\n",
    "    return app_data\n",
    "scape_app_data(soup)"
   ]
  },
  {
   "cell_type": "code",
   "execution_count": null,
   "id": "d3e70816",
   "metadata": {},
   "outputs": [],
   "source": [
    "soup.select_one(\".App\")"
   ]
  },
  {
   "cell_type": "code",
   "execution_count": 4,
   "id": "4b8a23ce",
   "metadata": {},
   "outputs": [
    {
     "data": {
      "text/plain": [
       "'ChannelReply'"
      ]
     },
     "execution_count": 4,
     "metadata": {},
     "output_type": "execute_result"
    }
   ],
   "source": [
    "# name\n",
    "soup.select_one(\".description-wrapper .title-container h3\").text.strip()"
   ]
  },
  {
   "cell_type": "code",
   "execution_count": 3,
   "id": "63b4ad6c",
   "metadata": {},
   "outputs": [
    {
     "data": {
      "text/plain": [
       "'https://77161.apps.zdusercontent.com/77161/assets/1635345341-510a0bbeef84f2d3bc6e651e9cc79070/logo.png?w=256&q=75'"
      ]
     },
     "execution_count": 3,
     "metadata": {},
     "output_type": "execute_result"
    }
   ],
   "source": [
    "#logo\n",
    "soup.select_one('img[alt=\"Logo\"]')[\"src\"]"
   ]
  },
  {
   "cell_type": "code",
   "execution_count": 9,
   "id": "cf2dd490",
   "metadata": {},
   "outputs": [
    {
     "data": {
      "text/plain": [
       "'Integrate Amazon, eBay, Back Market, Shopify & Walmart messaging with Zendesk'"
      ]
     },
     "execution_count": 9,
     "metadata": {},
     "output_type": "execute_result"
    }
   ],
   "source": [
    "# tagline\n",
    "soup.select_one(\".description-wrapper p\").text.strip()"
   ]
  },
  {
   "cell_type": "code",
   "execution_count": 14,
   "id": "af5bcd31",
   "metadata": {},
   "outputs": [
    {
     "data": {
      "text/plain": [
       "'164'"
      ]
     },
     "execution_count": 14,
     "metadata": {},
     "output_type": "execute_result"
    }
   ],
   "source": [
    "# rating count\n",
    "re.search(\"[0-9]+\", soup.select_one(\"span.rating-count\").text.strip()).group()"
   ]
  },
  {
   "cell_type": "code",
   "execution_count": 17,
   "id": "63d627ef",
   "metadata": {},
   "outputs": [
    {
     "data": {
      "text/plain": [
       "'4'"
      ]
     },
     "execution_count": 17,
     "metadata": {},
     "output_type": "execute_result"
    }
   ],
   "source": [
    "# rating\n",
    "re.search(\"[0-9]+\", soup.select_one(\".rating-number\").text.strip()).group()"
   ]
  },
  {
   "cell_type": "code",
   "execution_count": 19,
   "id": "668db6c4",
   "metadata": {
    "collapsed": true
   },
   "outputs": [
    {
     "data": {
      "text/plain": [
       "\"Tired of supporting each of your retail channels separately? ChannelReply integrates your Amazon, eBay, Back Market, Shopify and Walmart messaging into Zendesk. Never lose a customer in the shuffle again!\\nClick to watch ChannelReply + Zendesk demos on YouTube\\nAnswer Amazon, eBay, Back Market, Shopify & Walmart Messages\\n \\nChannelReply makes it simple to answer marketplace messages in Zendesk. No more opening new tickets for every message or watching your replies bounce back. No more scrolling through screens of pointless text. ChannelReply threads conversations into tickets, cleans up clutter, and delivers your messages reliably.\\nGet All the Data You Need\\n\\nThe ChannelReply app shows all your crucial buyer and order data beside each ticket, including:\\nBuyer Name – Item Title – SKU – Order ID – Amount Paid – Shipping Address – Order Status – Amazon Delivery Level – eBay Buyer Checkout Message – Back Market Payment Method – Shopify Shipping Fee – Walmart Fulfillment Option – Much More!\\nTake Action Inside Zendesk\\n\\nIn addition to answering messages, you can use the ChannelReply app to perform actions without leaving Zendesk:\\n\\nTrigger Amazon’s “Mark as ‘No response needed’ ” and “Request a Review” buttons\\nManage eBay returns, cancellations, and Resolution Center cases\\nUpload tracking info, issue refunds, and validate orders for Back Market\\nHandle Shopify cancellations and refunds, including partial refunds\\nCancel Walmart orders\\n\\nSee All Your Notifications\\nWe're happy to help you get all your important system notifications from Amazon, eBay, Back Market, Shopify and Walmart. Never miss a new order, return, A-to-z claim, cancellation or escalation. Please note that notification types available vary by marketplace.\\nType No Evil\\nSend replies without breaking strict marketplace rules. Set ChannelReply to automatically remove specific text like links, contact info and promotions from your replies. Plus, build a unique signature for each marketplace account you connect to make sure you're always on-brand.\\nEmpower Your Team\\nEnable your customer service team to harness the awesome power of Zendesk macros and business rules to:\\n\\nCreate automated, personalized replies to Amazon, eBay, Back Market, Shopify and Walmart messages\\nAssign buyer questions to the right customer service agent\\nSet priority levels for marketplace messages\\nKeep buyers in the loop, regardless of specific ticket status\\nInvent powerful, time-saving workflows unique to your business\\n\\nGet Started\\nMake multichannel support pain-free. Create a ChannelReply account at https://www.channelreply.com/sign-up to begin your free trial, or visit our homepage at https://www.channelreply.com/ to learn more.\""
      ]
     },
     "execution_count": 19,
     "metadata": {},
     "output_type": "execute_result"
    }
   ],
   "source": [
    "# detail\n",
    "soup.select_one(\"div.product-description\").text.strip()"
   ]
  },
  {
   "cell_type": "code",
   "execution_count": 22,
   "id": "3eae4183",
   "metadata": {},
   "outputs": [
    {
     "data": {
      "text/plain": [
       "'support'"
      ]
     },
     "execution_count": 22,
     "metadata": {},
     "output_type": "execute_result"
    }
   ],
   "source": [
    "# category\n",
    "soup.select_one(\".product-title\").text.strip()"
   ]
  },
  {
   "cell_type": "code",
   "execution_count": 23,
   "id": "5c73a6f3",
   "metadata": {},
   "outputs": [
    {
     "data": {
      "text/plain": [
       "'Ticketing System'"
      ]
     },
     "execution_count": 23,
     "metadata": {},
     "output_type": "execute_result"
    }
   ],
   "source": [
    "# desc\n",
    "soup.select_one(\".product-desc\").text.strip()"
   ]
  },
  {
   "cell_type": "code",
   "execution_count": 20,
   "id": "2532409a",
   "metadata": {},
   "outputs": [
    {
     "data": {
      "text/plain": [
       "'https://www.channelreply.com/images/gifs/zendesk-app/gif-0.gif, https://www.channelreply.com/images/gifs/zendesk-app/gif-1.gif, https://www.channelreply.com/images/gifs/zendesk-app/gif-2.gif'"
      ]
     },
     "execution_count": 20,
     "metadata": {},
     "output_type": "execute_result"
    }
   ],
   "source": [
    "# imgs\n",
    "\", \".join([md[\"src\"] for md in soup.select(\"div.product-description img\")])"
   ]
  },
  {
   "cell_type": "code",
   "execution_count": 26,
   "id": "8fbcfd10",
   "metadata": {},
   "outputs": [
    {
     "data": {
      "text/plain": [
       "'2.0.2'"
      ]
     },
     "execution_count": 26,
     "metadata": {},
     "output_type": "execute_result"
    }
   ],
   "source": [
    "# version\n",
    "[div.select_one(\"div:last-child\").text.strip() for div in soup.select(\".details-panel .detail-item\") if \"VERSION\" in div.text.upper()][0]"
   ]
  },
  {
   "cell_type": "code",
   "execution_count": 28,
   "id": "b3b55a66",
   "metadata": {},
   "outputs": [
    {
     "data": {
      "text/plain": [
       "'Free'"
      ]
     },
     "execution_count": 28,
     "metadata": {},
     "output_type": "execute_result"
    }
   ],
   "source": [
    "# pricing line\n",
    "[div.select_one(\"div:last-child\").text.strip() for div in soup.select(\".details-panel .detail-item\") if \"PRICE\" in div.text.upper()][0]"
   ]
  },
  {
   "cell_type": "code",
   "execution_count": 29,
   "id": "3ca206cd",
   "metadata": {},
   "outputs": [
    {
     "data": {
      "text/plain": [
       "'ChannelReply'"
      ]
     },
     "execution_count": 29,
     "metadata": {},
     "output_type": "execute_result"
    }
   ],
   "source": [
    "# developer\n",
    "[div.select_one(\"div:last-child\").text.strip() for div in soup.select(\".details-panel .detail-item\") if \"AUTHOR\" in div.text.upper()][0]"
   ]
  },
  {
   "cell_type": "code",
   "execution_count": null,
   "id": "b4d38c19",
   "metadata": {},
   "outputs": [],
   "source": []
  },
  {
   "cell_type": "code",
   "execution_count": null,
   "id": "f33e80fb",
   "metadata": {},
   "outputs": [],
   "source": []
  },
  {
   "cell_type": "code",
   "execution_count": null,
   "id": "56b103b6",
   "metadata": {},
   "outputs": [],
   "source": []
  },
  {
   "cell_type": "code",
   "execution_count": null,
   "id": "1e305e21",
   "metadata": {},
   "outputs": [],
   "source": []
  },
  {
   "cell_type": "code",
   "execution_count": null,
   "id": "059653f1",
   "metadata": {},
   "outputs": [],
   "source": []
  },
  {
   "cell_type": "code",
   "execution_count": null,
   "id": "da2116d6",
   "metadata": {},
   "outputs": [],
   "source": []
  }
 ],
 "metadata": {
  "kernelspec": {
   "display_name": "Python 3 (ipykernel)",
   "language": "python",
   "name": "python3"
  },
  "language_info": {
   "codemirror_mode": {
    "name": "ipython",
    "version": 3
   },
   "file_extension": ".py",
   "mimetype": "text/x-python",
   "name": "python",
   "nbconvert_exporter": "python",
   "pygments_lexer": "ipython3",
   "version": "3.9.4"
  }
 },
 "nbformat": 4,
 "nbformat_minor": 5
}
