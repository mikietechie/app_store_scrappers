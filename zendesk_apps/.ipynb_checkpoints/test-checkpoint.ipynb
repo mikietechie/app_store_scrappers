{
 "cells": [
  {
   "cell_type": "code",
   "execution_count": 1,
   "id": "8cd4bbde",
   "metadata": {},
   "outputs": [],
   "source": [
    "import bs4\n",
    "import pandas as pd\n",
    "import re, datetime\n",
    "def get_soup_from_file(fp):\n",
    "        with open(fp, 'r', encoding=\"UTF-8\") as file:\n",
    "            return bs4.BeautifulSoup(str(file.read()), features=\"html.parser\")"
   ]
  },
  {
   "cell_type": "code",
   "execution_count": 2,
   "id": "a5e597ec",
   "metadata": {},
   "outputs": [],
   "source": [
    "soup =  get_soup_from_file(\"app.html\")"
   ]
  },
  {
   "cell_type": "code",
   "execution_count": null,
   "id": "550616d0",
   "metadata": {},
   "outputs": [],
   "source": [
    "def scape_app_data(soup: bs4.BeautifulSoup):\n",
    "    app_data = {\"date\": datetime.date.today(), \"time\": datetime.datetime.utcnow().strftime(\"%r\")}\n",
    "    try: app_data[\"name\"] = soup.select_one(\"div.header\").text.strip()\n",
    "    except: app_data[\"name\"] = None\n",
    "    try: app_data[\"images\"] = \", \".join([md[\"src\"] for md in soup.select(\".screenshots .silentbox-item\")])\n",
    "    except: app_data[\"images\"] = None\n",
    "    try: app_data[\"logo\"] = soup.select_one(\".app-cover img\")[\"src\"]\n",
    "    except: app_data[\"logo\"] = None\n",
    "    try: app_data[\"category\"] = \", \".join([a.text.strip() for a in [spacer for spacer in soup.select(\".sidebar .details .spacer\") if \"ago in\" in spacer.text][0].find_next_siblings(\"a\")])\n",
    "    except: app_data[\"category\"] = None\n",
    "    try: app_data[\"details\"] = soup.select_one(\".el-tab-pane .keep-whitespaces.website\").text.strip()\n",
    "    except: app_data[\"details\"] = None\n",
    "    try: app_data[\"instructions\"] = soup.select_one(\"#pane-1 .keep-whitespaces.website\").text.strip()\n",
    "    except: app_data[\"instructions\"] = None\n",
    "    try: app_data[\"tagline\"] = soup.select_one(\".overview\").text.strip()\n",
    "    except: app_data[\"tagline\"] = None\n",
    "    try: app_data[\"priceline\"] = soup.select_one(\".app-cover\").find_previous_sibling(\"span\", class_=\"badge\").text.strip()\n",
    "    except: app_data[\"priceline\"] = \"Paid\"\n",
    "    try: app_data[\"developer\"] = [spacer.text.strip() for spacer in soup.select(\".sidebar .details .spacer\") if \"Published by\" in spacer.text][0]\n",
    "    except: app_data[\"developer\"] = None\n",
    "    try: app_data[\"timeline\"] = [spacer.text.strip() for spacer in soup.select(\".sidebar .details .spacer\") if \"ago in\" in spacer.text][0]\n",
    "    except: app_data[\"timeline\"] = None\n",
    "    try: app_data[\"info\"] = soup.select_one(\".sidebar .details .product-info\").parent.text.strip()\n",
    "    except: app_data[\"info\"] = None\n",
    "    try: app_data[\"verification\"] = soup.select_one(\".freshworks-verified\").text.strip()\n",
    "    except: app_data[\"verification\"] = None\n",
    "    try: app_data[\"help\"] = \", \".join([a[\"href\"] for a in soup.select(\".help a\")])\n",
    "    except: app_data[\"help\"] = None\n",
    "    return app_data\n",
    "scape_app_data(soup)"
   ]
  },
  {
   "cell_type": "code",
   "execution_count": null,
   "id": "d3e70816",
   "metadata": {},
   "outputs": [],
   "source": [
    "soup.select_one(\".App\")"
   ]
  },
  {
   "cell_type": "code",
   "execution_count": 4,
   "id": "4b8a23ce",
   "metadata": {},
   "outputs": [
    {
     "data": {
      "text/plain": [
       "'ChannelReply'"
      ]
     },
     "execution_count": 4,
     "metadata": {},
     "output_type": "execute_result"
    }
   ],
   "source": [
    "# name\n",
    "soup.select_one(\".description-wrapper .title-container h3\").text.strip()"
   ]
  },
  {
   "cell_type": "code",
   "execution_count": 3,
   "id": "63b4ad6c",
   "metadata": {},
   "outputs": [
    {
     "data": {
      "text/plain": [
       "'https://77161.apps.zdusercontent.com/77161/assets/1635345341-510a0bbeef84f2d3bc6e651e9cc79070/logo.png?w=256&q=75'"
      ]
     },
     "execution_count": 3,
     "metadata": {},
     "output_type": "execute_result"
    }
   ],
   "source": [
    "#logo\n",
    "soup.select_one('img[alt=\"Logo\"]')[\"src\"]"
   ]
  },
  {
   "cell_type": "code",
   "execution_count": 9,
   "id": "cf2dd490",
   "metadata": {},
   "outputs": [
    {
     "data": {
      "text/plain": [
       "'Integrate Amazon, eBay, Back Market, Shopify & Walmart messaging with Zendesk'"
      ]
     },
     "execution_count": 9,
     "metadata": {},
     "output_type": "execute_result"
    }
   ],
   "source": [
    "# tagline\n",
    "soup.select_one(\".description-wrapper p\").text.strip()"
   ]
  },
  {
   "cell_type": "code",
   "execution_count": 14,
   "id": "85e091c9",
   "metadata": {},
   "outputs": [
    {
     "data": {
      "text/plain": [
       "'164'"
      ]
     },
     "execution_count": 14,
     "metadata": {},
     "output_type": "execute_result"
    }
   ],
   "source": [
    "# reting count\n",
    "re.search(\"[0-9]+\", soup.select_one(\"span.rating-count\").text.strip()).group()"
   ]
  },
  {
   "cell_type": "code",
   "execution_count": 17,
   "id": "48c6ed0b",
   "metadata": {},
   "outputs": [
    {
     "data": {
      "text/plain": [
       "'4'"
      ]
     },
     "execution_count": 17,
     "metadata": {},
     "output_type": "execute_result"
    }
   ],
   "source": [
    "# reting\n",
    "re.search(\"[0-9]+\", soup.select_one(\".rating-number\").text.strip()).group()"
   ]
  },
  {
   "cell_type": "code",
   "execution_count": null,
   "id": "94b42fba",
   "metadata": {},
   "outputs": [],
   "source": [
    "# built by\n",
    "[spacer.text.strip() for spacer in soup.select(\".sidebar .details .spacer\") if \"Published by\" in spacer.text][0]"
   ]
  },
  {
   "cell_type": "code",
   "execution_count": null,
   "id": "2cd89e6b",
   "metadata": {},
   "outputs": [],
   "source": [
    "\n",
    "# help links\n",
    "\", \".join([a[\"href\"] for a in soup.select(\".help a\")])"
   ]
  },
  {
   "cell_type": "code",
   "execution_count": null,
   "id": "25f02a87",
   "metadata": {},
   "outputs": [],
   "source": [
    "# pricing line\n",
    "soup.select_one(\".app-cover\").find_previous_sibling(\"span\", class_=\"badge\").text.strip()"
   ]
  },
  {
   "cell_type": "code",
   "execution_count": null,
   "id": "547a310c",
   "metadata": {},
   "outputs": [],
   "source": [
    "# details\n",
    "soup.select_one(\".el-tab-pane .keep-whitespaces.website\").text.strip()"
   ]
  },
  {
   "cell_type": "code",
   "execution_count": null,
   "id": "668db6c4",
   "metadata": {},
   "outputs": [],
   "source": [
    "# instructions\n",
    "soup.select_one(\"#pane-1 .keep-whitespaces.website\").text.strip()"
   ]
  },
  {
   "cell_type": "code",
   "execution_count": null,
   "id": "cbce4bd2",
   "metadata": {},
   "outputs": [],
   "source": [
    "#info\n",
    "soup.select_one(\".sidebar .details .product-info\").parent.text.strip()"
   ]
  },
  {
   "cell_type": "code",
   "execution_count": null,
   "id": "3eae4183",
   "metadata": {},
   "outputs": [],
   "source": []
  },
  {
   "cell_type": "code",
   "execution_count": null,
   "id": "2532409a",
   "metadata": {},
   "outputs": [],
   "source": [
    "# imgs\n",
    "\", \".join([md[\"src\"] for md in soup.select(\".screenshots .silentbox-item\")])"
   ]
  },
  {
   "cell_type": "code",
   "execution_count": null,
   "id": "8fbcfd10",
   "metadata": {},
   "outputs": [],
   "source": [
    "# version\n",
    "[spacer.text.strip() for spacer in soup.select(\".sidebar .details .spacer\") if \"Version\" in spacer.text][0]"
   ]
  },
  {
   "cell_type": "code",
   "execution_count": null,
   "id": "b4d38c19",
   "metadata": {},
   "outputs": [],
   "source": [
    "# timeline\n",
    "[spacer.text.strip() for spacer in soup.select(\".sidebar .details .spacer\") if \"ago in\" in spacer.text][0]"
   ]
  },
  {
   "cell_type": "code",
   "execution_count": null,
   "id": "f33e80fb",
   "metadata": {},
   "outputs": [],
   "source": [
    "# category\n",
    "\", \".join([a.text.strip() for a in [spacer for spacer in soup.select(\".sidebar .details .spacer\") if \"ago in\" in spacer.text][0].find_next_siblings(\"a\")])"
   ]
  },
  {
   "cell_type": "code",
   "execution_count": null,
   "id": "56b103b6",
   "metadata": {},
   "outputs": [],
   "source": [
    "# verification\n",
    "soup.select_one(\".freshworks-verified\").text.strip()"
   ]
  },
  {
   "cell_type": "code",
   "execution_count": null,
   "id": "1e305e21",
   "metadata": {},
   "outputs": [],
   "source": []
  },
  {
   "cell_type": "code",
   "execution_count": null,
   "id": "059653f1",
   "metadata": {},
   "outputs": [],
   "source": []
  },
  {
   "cell_type": "code",
   "execution_count": null,
   "id": "da2116d6",
   "metadata": {},
   "outputs": [],
   "source": []
  }
 ],
 "metadata": {
  "kernelspec": {
   "display_name": "Python 3 (ipykernel)",
   "language": "python",
   "name": "python3"
  },
  "language_info": {
   "codemirror_mode": {
    "name": "ipython",
    "version": 3
   },
   "file_extension": ".py",
   "mimetype": "text/x-python",
   "name": "python",
   "nbconvert_exporter": "python",
   "pygments_lexer": "ipython3",
   "version": "3.9.4"
  }
 },
 "nbformat": 4,
 "nbformat_minor": 5
}
