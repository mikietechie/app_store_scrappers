{
 "cells": [
  {
   "cell_type": "code",
   "execution_count": 1,
   "id": "8cd4bbde",
   "metadata": {},
   "outputs": [],
   "source": [
    "import bs4\n",
    "import pandas as pd"
   ]
  },
  {
   "cell_type": "code",
   "execution_count": 47,
   "id": "5c9eaf20",
   "metadata": {},
   "outputs": [
    {
     "data": {
      "text/plain": [
       "'09:44:06 AM'"
      ]
     },
     "execution_count": 47,
     "metadata": {},
     "output_type": "execute_result"
    }
   ],
   "source": [
    "import datetime\n",
    "datetime.datetime.now().strftime(\"%r\")"
   ]
  },
  {
   "cell_type": "code",
   "execution_count": 62,
   "id": "cc1ce78b",
   "metadata": {},
   "outputs": [
    {
     "data": {
      "text/html": [
       "<div>\n",
       "<style scoped>\n",
       "    .dataframe tbody tr th:only-of-type {\n",
       "        vertical-align: middle;\n",
       "    }\n",
       "\n",
       "    .dataframe tbody tr th {\n",
       "        vertical-align: top;\n",
       "    }\n",
       "\n",
       "    .dataframe thead th {\n",
       "        text-align: right;\n",
       "    }\n",
       "</style>\n",
       "<table border=\"1\" class=\"dataframe\">\n",
       "  <thead>\n",
       "    <tr style=\"text-align: right;\">\n",
       "      <th></th>\n",
       "      <th>name</th>\n",
       "      <th>date</th>\n",
       "      <th>time</th>\n",
       "    </tr>\n",
       "  </thead>\n",
       "  <tbody>\n",
       "    <tr>\n",
       "      <th>90</th>\n",
       "      <td>Reach Reporting - Analytics, Report Builder, D...</td>\n",
       "      <td>2021-11-04</td>\n",
       "      <td>08:39:36 AM</td>\n",
       "    </tr>\n",
       "    <tr>\n",
       "      <th>128</th>\n",
       "      <td>Paychex Link and Sync</td>\n",
       "      <td>2021-11-04</td>\n",
       "      <td>08:39:36 AM</td>\n",
       "    </tr>\n",
       "    <tr>\n",
       "      <th>82</th>\n",
       "      <td>Buildertrend</td>\n",
       "      <td>2021-11-04</td>\n",
       "      <td>08:39:36 AM</td>\n",
       "    </tr>\n",
       "    <tr>\n",
       "      <th>136</th>\n",
       "      <td>Field Promax</td>\n",
       "      <td>2021-11-04</td>\n",
       "      <td>08:39:36 AM</td>\n",
       "    </tr>\n",
       "    <tr>\n",
       "      <th>35</th>\n",
       "      <td>HubSpot</td>\n",
       "      <td>2021-11-04</td>\n",
       "      <td>08:39:36 AM</td>\n",
       "    </tr>\n",
       "    <tr>\n",
       "      <th>170</th>\n",
       "      <td>ClockShark Time Tracking</td>\n",
       "      <td>2021-11-04</td>\n",
       "      <td>08:39:36 AM</td>\n",
       "    </tr>\n",
       "    <tr>\n",
       "      <th>42</th>\n",
       "      <td>Bulk Deleter</td>\n",
       "      <td>2021-11-04</td>\n",
       "      <td>08:39:36 AM</td>\n",
       "    </tr>\n",
       "    <tr>\n",
       "      <th>36</th>\n",
       "      <td>NaN</td>\n",
       "      <td>2021-11-04</td>\n",
       "      <td>08:39:36 AM</td>\n",
       "    </tr>\n",
       "    <tr>\n",
       "      <th>156</th>\n",
       "      <td>Shopify Connector by Intuit</td>\n",
       "      <td>2021-11-04</td>\n",
       "      <td>08:39:36 AM</td>\n",
       "    </tr>\n",
       "    <tr>\n",
       "      <th>142</th>\n",
       "      <td>Chaser</td>\n",
       "      <td>2021-11-04</td>\n",
       "      <td>08:39:36 AM</td>\n",
       "    </tr>\n",
       "  </tbody>\n",
       "</table>\n",
       "</div>"
      ],
      "text/plain": [
       "                                                  name        date  \\\n",
       "90   Reach Reporting - Analytics, Report Builder, D...  2021-11-04   \n",
       "128                              Paychex Link and Sync  2021-11-04   \n",
       "82                                        Buildertrend  2021-11-04   \n",
       "136                                       Field Promax  2021-11-04   \n",
       "35                                             HubSpot  2021-11-04   \n",
       "170                           ClockShark Time Tracking  2021-11-04   \n",
       "42                                        Bulk Deleter  2021-11-04   \n",
       "36                                                 NaN  2021-11-04   \n",
       "156                        Shopify Connector by Intuit  2021-11-04   \n",
       "142                                             Chaser  2021-11-04   \n",
       "\n",
       "            time  \n",
       "90   08:39:36 AM  \n",
       "128  08:39:36 AM  \n",
       "82   08:39:36 AM  \n",
       "136  08:39:36 AM  \n",
       "35   08:39:36 AM  \n",
       "170  08:39:36 AM  \n",
       "42   08:39:36 AM  \n",
       "36   08:39:36 AM  \n",
       "156  08:39:36 AM  \n",
       "142  08:39:36 AM  "
      ]
     },
     "execution_count": 62,
     "metadata": {},
     "output_type": "execute_result"
    }
   ],
   "source": [
    "df = pd.read_csv(\"apps.csv\")\n",
    "df.sample(10)[[\"name\", \"date\", \"time\"]]"
   ]
  },
  {
   "cell_type": "code",
   "execution_count": null,
   "id": "d3e70816",
   "metadata": {
    "collapsed": true
   },
   "outputs": [],
   "source": [
    "html = \"\"\n",
    "with open(\"file.html\", 'r') as file:\n",
    "    html = str(file.read())\n",
    "html"
   ]
  },
  {
   "cell_type": "code",
   "execution_count": null,
   "id": "fa8e1b42",
   "metadata": {},
   "outputs": [],
   "source": [
    "\n",
    "soup = bs4.BeautifulSoup(html, features=\"html.parser\")"
   ]
  },
  {
   "cell_type": "code",
   "execution_count": null,
   "id": "a5e597ec",
   "metadata": {},
   "outputs": [],
   "source": []
  },
  {
   "cell_type": "code",
   "execution_count": null,
   "id": "cf2dd490",
   "metadata": {},
   "outputs": [],
   "source": [
    "sidebar = soup.find(\"div\", class_=\"split-layout-sidebar\")\n",
    "categories = sidebar.find_all(\"div\", class_=\"collection-container\")[-1]\n",
    "category_links = categories.find_all(\"a\", class_=\"item collection\")\n",
    "category_links[0]['href']"
   ]
  },
  {
   "cell_type": "code",
   "execution_count": null,
   "id": "3e99b226",
   "metadata": {},
   "outputs": [],
   "source": [
    "app_cards = soup.find_all(\"a\", class_=\"appcard-wrapper-home-browse\")\n",
    "app_card = app_cards[0]\n",
    "app_card[\"href\"]"
   ]
  },
  {
   "cell_type": "code",
   "execution_count": null,
   "id": "94b42fba",
   "metadata": {},
   "outputs": [],
   "source": [
    "soup = \"\"\n",
    "with open(\"app.html\", 'r') as f:\n",
    "    soup = bs4.BeautifulSoup(str(f.read()), features=\"html.parser\")"
   ]
  },
  {
   "cell_type": "code",
   "execution_count": null,
   "id": "56ecaeae",
   "metadata": {},
   "outputs": [],
   "source": [
    "def crash_proof(func, default=None):\n",
    "    try: return func()\n",
    "    except: return default\n",
    "x = {'a':2,'b':3}\n",
    "list(x.keys())"
   ]
  },
  {
   "cell_type": "code",
   "execution_count": null,
   "id": "00aa171e",
   "metadata": {},
   "outputs": [],
   "source": [
    "def scape_app_data(soup: bs4.BeautifulSoup):\n",
    "    return {\n",
    "        \"logo\": soup.find(\"img\", class_=\"logo\").get(\"src\"),\n",
    "        \"name\": soup.find(\"h1\", class_=\"app-name\").text.strip(),\n",
    "        \"tag_line\": soup.find(\"h2\", class_=\"tag-line\").text.strip(),\n",
    "        \"category\": soup.find(\"span\", class_=\"category\").text.strip(),\n",
    "        \"rating\": soup.find(\"div\", class_=\"overall\").find(\"div\", class_=\"parsed-rating\").text.strip(),\n",
    "        \"reviews_count\": soup.find(\"div\", class_=\"overall\").find(\"span\", class_=\"review-count\").text.strip().replace(\"(\", \"\").replace(\" ratings)\", \"\"),\n",
    "        \"developer\": soup.find(\"a\", attrs={\"data-id\": \"developer\"}).text.strip(),\n",
    "        \"developer_url\": soup.find(\"a\", attrs={\"data-id\": \"developer\"}).get(\"href\"),\n",
    "        \"contact\": soup.find(\"span\", class_=\"contact\").text.strip(),\n",
    "        \"email\": soup.find(\"a\", class_=\"contact\").text.strip(),\n",
    "        \"support\": soup.find(\"a\", attrs={\"data-id\": \"support\"}).text.strip(),\n",
    "        \"details\": soup.find(\"div\", class_=\"overview-text\").find_all(\"p\")[-1].text.strip(),\n",
    "        \"how_it_works_with_quick_books\": soup.find(\"div\", class_=\"overview-text\").find_all(\"p\")[0].text.strip(),\n",
    "        \"key_benefits\": \"\\n\".join([li.text.strip() for li in soup.find(\"div\", class_=\"overview-text\").find(\"ul\", class_=\"key-benefits\").find_all(\"li\")]),\n",
    "        \"pricing_text\": soup.find(\"div\", class_=\"pricing\").find(\"p\").text.strip(),\n",
    "        \"plans\": [{\n",
    "            \"plan-name\": plan.find(\"div\", class_=\"plan-name\").text.strip(),\n",
    "            \"details\": plan.find(\"div\", class_=\"details\").text.strip(),\n",
    "            \"users\": plan.find(\"div\", class_=\"users\").find(\"div\", class_=\"value\").text.strip(),\n",
    "            \"price\": plan.find(\"div\", class_=\"price\").find(\"div\", class_=\"value\").text.strip(),\n",
    "        } for plan in soup.find_all(\"div\", class_=\"plan\") if plan]\n",
    "    }\n",
    "scape_app_data(soup)"
   ]
  }
 ],
 "metadata": {
  "kernelspec": {
   "display_name": "Python 3 (ipykernel)",
   "language": "python",
   "name": "python3"
  },
  "language_info": {
   "codemirror_mode": {
    "name": "ipython",
    "version": 3
   },
   "file_extension": ".py",
   "mimetype": "text/x-python",
   "name": "python",
   "nbconvert_exporter": "python",
   "pygments_lexer": "ipython3",
   "version": "3.9.4"
  }
 },
 "nbformat": 4,
 "nbformat_minor": 5
}
