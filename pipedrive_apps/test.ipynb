{
 "cells": [
  {
   "cell_type": "code",
   "execution_count": 1,
   "id": "8cd4bbde",
   "metadata": {},
   "outputs": [],
   "source": [
    "import bs4\n",
    "import pandas as pd\n",
    "import re, datetime\n",
    "def get_soup_from_file(fp):\n",
    "        with open(fp, 'r', encoding=\"UTF-8\") as file:\n",
    "            return bs4.BeautifulSoup(str(file.read()), features=\"html.parser\")"
   ]
  },
  {
   "cell_type": "code",
   "execution_count": 3,
   "id": "a5e597ec",
   "metadata": {},
   "outputs": [],
   "source": [
    "soup =  get_soup_from_file(\"app.html\")"
   ]
  },
  {
   "cell_type": "code",
   "execution_count": 26,
   "id": "550616d0",
   "metadata": {
    "collapsed": true
   },
   "outputs": [
    {
     "data": {
      "text/plain": [
       "{'date': datetime.date(2021, 11, 12),\n",
       " 'time': '12:53:43 AM',\n",
       " 'name': 'Microsoft Teams',\n",
       " 'images': 'https://pipedrive-marketplace-manager-live.s3.amazonaws.com/23b45cfa6522e8d5/screenshot/1b7cfa89-4f27-48bf-8173-626a0416fbf1/original.png, https://pipedrive-marketplace-manager-live.s3.amazonaws.com/23b45cfa6522e8d5/screenshot/b332600a-50e0-485d-b529-2a12c872eb6d/original.png, https://pipedrive-marketplace-manager-live.s3.amazonaws.com/23b45cfa6522e8d5/screenshot/52b226dd-50a8-4daa-b110-512b75d2dd53/original.png, https://pipedrive-marketplace-manager-live.s3.amazonaws.com/23b45cfa6522e8d5/screenshot/4ddad22d-5abe-4940-8c93-f841b5401d60/original.png',\n",
       " 'logo': 'https://pipedrive-marketplace-manager-live.s3.amazonaws.com/23b45cfa6522e8d5/icon/78eece19-119f-4856-b8de-78cce9bc11ed/original.png',\n",
       " 'rating': 4,\n",
       " 'reviews_count': '7',\n",
       " 'category': 'Bots & messaging, Video calls & solutions',\n",
       " 'details': 'DescriptionThis integration allows you to stay on top of your deals with real-time updates in Microsoft Teams. It also offers the ability to schedule and join video meetings directly from Pipedrive’s activity and meeting Scheduler views (the propose times feature).The Microsoft Teams bot sends updates on Pipedrive deals, people, organizations and activities to your colleagues in Microsoft Teams to provide visibility and context. Choose to receive updates on channels or personal messages.\\nWhether multiple people need to collaborate to close deals, or you simply want to keep everyone in the company informed, Pipedrive bot automatically handles it directly in Microsoft Teams.This bot allows you to:Choose which updates you want to receive Get updates in personal or team channels About Microsoft Teams\\nMicrosoft Teams, a part of the Office 365 suite of applications, is one of the most efficient cloud-based team collaboration tools. The core features include business messaging, calling, video meetings, and file sharing.Setup and installationAdd Pipedrive bot from the Microsoft Teams AppSourceClick on \"Connect Pipedrive\"Click on \"Allow and install\"Copy and paste the code in the chat view in Microsoft TeamsApp ExtensionsWorkflow automationResourcesWebsiteSupport emailTerms of ServicePrivacy PolicyDocumentation',\n",
       " 'tagline': 'Get Pipedrive updates in Teams, and schedule and join video meetings from Pipedrive. Keep your team ready to close that next big deal.',\n",
       " 'developer': 'by Pipedrive',\n",
       " 'similar': 'Pipechat, Google Meet, Dealbot for Slack'}"
      ]
     },
     "execution_count": 26,
     "metadata": {},
     "output_type": "execute_result"
    }
   ],
   "source": [
    "def scape_app_data(soup: bs4.BeautifulSoup):\n",
    "    app_data = {\"date\": datetime.date.today(), \"time\": datetime.datetime.utcnow().strftime(\"%r\")}\n",
    "    try: app_data[\"name\"] = soup.select_one(\"h1\").text.strip()\n",
    "    except: app_data[\"name\"] = None\n",
    "    try: app_data[\"images\"] = \", \".join([img[\"src\"] for img in soup.select(\"section.screenshots .image-gallery-slide-wrapper img\")])\n",
    "    except: app_data[\"images\"] = None\n",
    "    try: app_data[\"logo\"] = soup.select_one(\"img\").get(\"srcset\") or soup.select_one(\"img\").get(\"src\")\n",
    "    except: app_data[\"logo\"] = None\n",
    "    try: app_data[\"rating\"] = len(soup.select('div[data-testid=\"Header-Stats\"] svg.cui4-icon.cui4-icon--yellow'))\n",
    "    except: app_data[\"rating\"] = None\n",
    "    try: app_data[\"reviews_count\"] = re.search(\"[0-9]+\", soup.select_one(\"span.ReviewCount-dnn620-0\").text.strip()).group()\n",
    "    except: app_data[\"reviews_count\"] = None\n",
    "    try: app_data[\"category\"] = \", \".join([span.text.strip() for span in soup.select(\"a.styles__CategoryLink-sc-9px7lz-3\")])\n",
    "    except: app_data[\"category\"] = None\n",
    "    try: app_data[\"details\"] = soup.select_one(\"section.Container-x87hbt-0.styles__AppDetailsContainer-xor6ij-0.styles__ContentWrapper-xor6ij-1\").text.strip()\n",
    "    except: app_data[\"details\"] = None\n",
    "    try: app_data[\"tagline\"] = soup.select_one(\"p.Caption-uyiun5-0\").text.strip()\n",
    "    except: app_data[\"tagline\"] = None\n",
    "    try: app_data[\"developer\"] = soup.select_one(\"p.styles__Author-sc-9px7lz-0\").text.strip()\n",
    "    except: app_data[\"developer\"] = None\n",
    "    try: app_data[\"similar\"] = \", \".join([h2.text.strip() for h2 in soup.select(\"h2.Name-sc-8ygaid-0\")])\n",
    "    except: app_data[\"similar\"] = None\n",
    "    return app_data\n",
    "scape_app_data(soup)"
   ]
  },
  {
   "cell_type": "code",
   "execution_count": 28,
   "id": "d3e70816",
   "metadata": {},
   "outputs": [
    {
     "data": {
      "text/html": [
       "<div>\n",
       "<style scoped>\n",
       "    .dataframe tbody tr th:only-of-type {\n",
       "        vertical-align: middle;\n",
       "    }\n",
       "\n",
       "    .dataframe tbody tr th {\n",
       "        vertical-align: top;\n",
       "    }\n",
       "\n",
       "    .dataframe thead th {\n",
       "        text-align: right;\n",
       "    }\n",
       "</style>\n",
       "<table border=\"1\" class=\"dataframe\">\n",
       "  <thead>\n",
       "    <tr style=\"text-align: right;\">\n",
       "      <th></th>\n",
       "      <th>date</th>\n",
       "      <th>time</th>\n",
       "      <th>name</th>\n",
       "      <th>images</th>\n",
       "      <th>logo</th>\n",
       "      <th>rating</th>\n",
       "      <th>reviews_count</th>\n",
       "      <th>category</th>\n",
       "      <th>details</th>\n",
       "      <th>tagline</th>\n",
       "      <th>developer</th>\n",
       "      <th>similar</th>\n",
       "      <th>website</th>\n",
       "      <th>support_website</th>\n",
       "      <th>support_email</th>\n",
       "      <th>privacy_policy</th>\n",
       "      <th>terms_of_service</th>\n",
       "      <th>url</th>\n",
       "    </tr>\n",
       "  </thead>\n",
       "  <tbody>\n",
       "    <tr>\n",
       "      <th>0</th>\n",
       "      <td>2021-11-12</td>\n",
       "      <td>01:07:17 AM</td>\n",
       "      <td>Trello</td>\n",
       "      <td>https://pipedrive-marketplace-manager-live.s3....</td>\n",
       "      <td>https://pipedrive-marketplace-manager-live.s3....</td>\n",
       "      <td>3</td>\n",
       "      <td>9</td>\n",
       "      <td>Task management</td>\n",
       "      <td>DescriptionLet Pipedrive power your Trello car...</td>\n",
       "      <td>Trello’s boards, lists and cards enable you to...</td>\n",
       "      <td>by Pipedrive</td>\n",
       "      <td>FunnelFLARE, RouterJet, Arrivy</td>\n",
       "      <td>https://www.pipedrive.com/en/features/trello-c...</td>\n",
       "      <td>https://support.pipedrive.com/hc/en-us</td>\n",
       "      <td>mailto:support@pipedrive.com</td>\n",
       "      <td>https://www.pipedrive.com/et/privacy</td>\n",
       "      <td>https://www.pipedrive.com/en/terms-of-service</td>\n",
       "      <td>https://www.pipedrive.com/en/marketplace/app/t...</td>\n",
       "    </tr>\n",
       "    <tr>\n",
       "      <th>1</th>\n",
       "      <td>2021-11-12</td>\n",
       "      <td>01:07:20 AM</td>\n",
       "      <td>lemlist</td>\n",
       "      <td>https://pipedrive-marketplace-manager-live.s3....</td>\n",
       "      <td>https://pipedrive-marketplace-manager-live.s3....</td>\n",
       "      <td>5</td>\n",
       "      <td>28</td>\n",
       "      <td>Email marketing, Lead generation</td>\n",
       "      <td>Descriptionlemlist is the first email outreach...</td>\n",
       "      <td>lemlist is the first email outreach platform t...</td>\n",
       "      <td>by lemlist</td>\n",
       "      <td>Outplay, Klenty, Leadfeeder</td>\n",
       "      <td>https://lemlist.com/</td>\n",
       "      <td>http://help.lemlist.com/</td>\n",
       "      <td>mailto:support@lemlist.com</td>\n",
       "      <td>https://lemlist.com/policy.html</td>\n",
       "      <td>https://lemlist.com/terms.html</td>\n",
       "      <td>https://www.pipedrive.com/en/marketplace/app/l...</td>\n",
       "    </tr>\n",
       "    <tr>\n",
       "      <th>2</th>\n",
       "      <td>2021-11-12</td>\n",
       "      <td>01:07:23 AM</td>\n",
       "      <td>Dealbot for Slack</td>\n",
       "      <td>https://pipedrive-marketplace-manager-live.s3....</td>\n",
       "      <td>https://pipedrive-marketplace-manager-live.s3....</td>\n",
       "      <td>4</td>\n",
       "      <td>30</td>\n",
       "      <td>Bots &amp; messaging</td>\n",
       "      <td>DescriptionLet Dealbot keep you updated\\r\\nWit...</td>\n",
       "      <td>Slack is the market-leading communication plat...</td>\n",
       "      <td>by Pipedrive</td>\n",
       "      <td>Pipechat, JustCall, Re:amaze</td>\n",
       "      <td>https://pipedrive.slack.com/apps/A2VG0CJAE-dea...</td>\n",
       "      <td>https://support.pipedrive.com/hc/en-us/article...</td>\n",
       "      <td>mailto:support@pipedrive.com</td>\n",
       "      <td>https://www.pipedrive.com/en/privacy</td>\n",
       "      <td>https://www.pipedrive.com/en/terms-of-service</td>\n",
       "      <td>https://www.pipedrive.com/en/marketplace/app/d...</td>\n",
       "    </tr>\n",
       "  </tbody>\n",
       "</table>\n",
       "</div>"
      ],
      "text/plain": [
       "         date         time               name  \\\n",
       "0  2021-11-12  01:07:17 AM             Trello   \n",
       "1  2021-11-12  01:07:20 AM            lemlist   \n",
       "2  2021-11-12  01:07:23 AM  Dealbot for Slack   \n",
       "\n",
       "                                              images  \\\n",
       "0  https://pipedrive-marketplace-manager-live.s3....   \n",
       "1  https://pipedrive-marketplace-manager-live.s3....   \n",
       "2  https://pipedrive-marketplace-manager-live.s3....   \n",
       "\n",
       "                                                logo  rating  reviews_count  \\\n",
       "0  https://pipedrive-marketplace-manager-live.s3....       3              9   \n",
       "1  https://pipedrive-marketplace-manager-live.s3....       5             28   \n",
       "2  https://pipedrive-marketplace-manager-live.s3....       4             30   \n",
       "\n",
       "                           category  \\\n",
       "0                   Task management   \n",
       "1  Email marketing, Lead generation   \n",
       "2                  Bots & messaging   \n",
       "\n",
       "                                             details  \\\n",
       "0  DescriptionLet Pipedrive power your Trello car...   \n",
       "1  Descriptionlemlist is the first email outreach...   \n",
       "2  DescriptionLet Dealbot keep you updated\\r\\nWit...   \n",
       "\n",
       "                                             tagline     developer  \\\n",
       "0  Trello’s boards, lists and cards enable you to...  by Pipedrive   \n",
       "1  lemlist is the first email outreach platform t...    by lemlist   \n",
       "2  Slack is the market-leading communication plat...  by Pipedrive   \n",
       "\n",
       "                          similar  \\\n",
       "0  FunnelFLARE, RouterJet, Arrivy   \n",
       "1     Outplay, Klenty, Leadfeeder   \n",
       "2    Pipechat, JustCall, Re:amaze   \n",
       "\n",
       "                                             website  \\\n",
       "0  https://www.pipedrive.com/en/features/trello-c...   \n",
       "1                               https://lemlist.com/   \n",
       "2  https://pipedrive.slack.com/apps/A2VG0CJAE-dea...   \n",
       "\n",
       "                                     support_website  \\\n",
       "0             https://support.pipedrive.com/hc/en-us   \n",
       "1                           http://help.lemlist.com/   \n",
       "2  https://support.pipedrive.com/hc/en-us/article...   \n",
       "\n",
       "                  support_email                        privacy_policy  \\\n",
       "0  mailto:support@pipedrive.com  https://www.pipedrive.com/et/privacy   \n",
       "1    mailto:support@lemlist.com       https://lemlist.com/policy.html   \n",
       "2  mailto:support@pipedrive.com  https://www.pipedrive.com/en/privacy   \n",
       "\n",
       "                                terms_of_service  \\\n",
       "0  https://www.pipedrive.com/en/terms-of-service   \n",
       "1                 https://lemlist.com/terms.html   \n",
       "2  https://www.pipedrive.com/en/terms-of-service   \n",
       "\n",
       "                                                 url  \n",
       "0  https://www.pipedrive.com/en/marketplace/app/t...  \n",
       "1  https://www.pipedrive.com/en/marketplace/app/l...  \n",
       "2  https://www.pipedrive.com/en/marketplace/app/d...  "
      ]
     },
     "execution_count": 28,
     "metadata": {},
     "output_type": "execute_result"
    }
   ],
   "source": [
    "df = pd.read_csv(\"apps.csv\")\n",
    "df"
   ]
  },
  {
   "cell_type": "code",
   "execution_count": 5,
   "id": "4b8a23ce",
   "metadata": {},
   "outputs": [
    {
     "data": {
      "text/plain": [
       "'Microsoft Teams'"
      ]
     },
     "execution_count": 5,
     "metadata": {},
     "output_type": "execute_result"
    }
   ],
   "source": [
    "# name\n",
    "soup.select_one(\"h1\").text.strip()"
   ]
  },
  {
   "cell_type": "code",
   "execution_count": 8,
   "id": "63b4ad6c",
   "metadata": {},
   "outputs": [
    {
     "data": {
      "text/plain": [
       "'https://pipedrive-marketplace-manager-live.s3.amazonaws.com/23b45cfa6522e8d5/icon/78eece19-119f-4856-b8de-78cce9bc11ed/original.png'"
      ]
     },
     "execution_count": 8,
     "metadata": {},
     "output_type": "execute_result"
    }
   ],
   "source": [
    "#logo\n",
    "soup.select_one(\"img\").get(\"srcset\") or soup.select_one(\"img\").get(\"src\")"
   ]
  },
  {
   "cell_type": "code",
   "execution_count": 15,
   "id": "d9f0989f",
   "metadata": {},
   "outputs": [
    {
     "data": {
      "text/plain": [
       "'7'"
      ]
     },
     "execution_count": 15,
     "metadata": {},
     "output_type": "execute_result"
    }
   ],
   "source": [
    "# review count\n",
    "re.search(\"[0-9]+\", soup.select_one(\"span.ReviewCount-dnn620-0\").text.strip()).group()"
   ]
  },
  {
   "cell_type": "code",
   "execution_count": 17,
   "id": "bd7d72fe",
   "metadata": {},
   "outputs": [
    {
     "data": {
      "text/plain": [
       "4"
      ]
     },
     "execution_count": 17,
     "metadata": {},
     "output_type": "execute_result"
    }
   ],
   "source": [
    "# avg rating\n",
    "len(soup.select('div[data-testid=\"Header-Stats\"] svg.cui4-icon.cui4-icon--yellow'))"
   ]
  },
  {
   "cell_type": "code",
   "execution_count": 20,
   "id": "cf2dd490",
   "metadata": {
    "collapsed": true
   },
   "outputs": [
    {
     "data": {
      "text/plain": [
       "'Get Pipedrive updates in Teams, and schedule and join video meetings from Pipedrive. Keep your team ready to close that next big deal.'"
      ]
     },
     "execution_count": 20,
     "metadata": {},
     "output_type": "execute_result"
    }
   ],
   "source": [
    "# tagline\n",
    "soup.select_one(\"p.Caption-uyiun5-0\").text.strip()"
   ]
  },
  {
   "cell_type": "code",
   "execution_count": 23,
   "id": "94b42fba",
   "metadata": {
    "collapsed": true
   },
   "outputs": [
    {
     "data": {
      "text/plain": [
       "'by Pipedrive'"
      ]
     },
     "execution_count": 23,
     "metadata": {},
     "output_type": "execute_result"
    }
   ],
   "source": [
    "# built by\n",
    "soup.select_one(\"p.styles__Author-sc-9px7lz-0\").text.strip()"
   ]
  },
  {
   "cell_type": "code",
   "execution_count": 22,
   "id": "547a310c",
   "metadata": {
    "collapsed": true
   },
   "outputs": [
    {
     "data": {
      "text/plain": [
       "'DescriptionThis integration allows you to stay on top of your deals with real-time updates in Microsoft Teams. It also offers the ability to schedule and join video meetings directly from Pipedrive’s activity and meeting Scheduler views (the propose times feature).The Microsoft Teams bot sends updates on Pipedrive deals, people, organizations and activities to your colleagues in Microsoft Teams to provide visibility and context. Choose to receive updates on channels or personal messages.\\nWhether multiple people need to collaborate to close deals, or you simply want to keep everyone in the company informed, Pipedrive bot automatically handles it directly in Microsoft Teams.This bot allows you to:Choose which updates you want to receive Get updates in personal or team channels About Microsoft Teams\\nMicrosoft Teams, a part of the Office 365 suite of applications, is one of the most efficient cloud-based team collaboration tools. The core features include business messaging, calling, video meetings, and file sharing.Setup and installationAdd Pipedrive bot from the Microsoft Teams AppSourceClick on \"Connect Pipedrive\"Click on \"Allow and install\"Copy and paste the code in the chat view in Microsoft TeamsApp ExtensionsWorkflow automationResourcesWebsiteSupport emailTerms of ServicePrivacy PolicyDocumentation'"
      ]
     },
     "execution_count": 22,
     "metadata": {},
     "output_type": "execute_result"
    }
   ],
   "source": [
    "# details\n",
    "soup.select_one(\"section.Container-x87hbt-0.styles__AppDetailsContainer-xor6ij-0.styles__ContentWrapper-xor6ij-1\").text.strip()"
   ]
  },
  {
   "cell_type": "code",
   "execution_count": 19,
   "id": "2532409a",
   "metadata": {
    "collapsed": true
   },
   "outputs": [
    {
     "data": {
      "text/plain": [
       "'https://pipedrive-marketplace-manager-live.s3.amazonaws.com/23b45cfa6522e8d5/screenshot/1b7cfa89-4f27-48bf-8173-626a0416fbf1/original.png, https://pipedrive-marketplace-manager-live.s3.amazonaws.com/23b45cfa6522e8d5/screenshot/b332600a-50e0-485d-b529-2a12c872eb6d/original.png, https://pipedrive-marketplace-manager-live.s3.amazonaws.com/23b45cfa6522e8d5/screenshot/52b226dd-50a8-4daa-b110-512b75d2dd53/original.png, https://pipedrive-marketplace-manager-live.s3.amazonaws.com/23b45cfa6522e8d5/screenshot/4ddad22d-5abe-4940-8c93-f841b5401d60/original.png'"
      ]
     },
     "execution_count": 19,
     "metadata": {},
     "output_type": "execute_result"
    }
   ],
   "source": [
    "# imgs\n",
    "\", \".join([img[\"src\"] for img in soup.select(\"section.screenshots .image-gallery-slide-wrapper img\")])"
   ]
  },
  {
   "cell_type": "code",
   "execution_count": 24,
   "id": "2cd89e6b",
   "metadata": {},
   "outputs": [
    {
     "data": {
      "text/plain": [
       "'Pipechat, Google Meet, Dealbot for Slack'"
      ]
     },
     "execution_count": 24,
     "metadata": {},
     "output_type": "execute_result"
    }
   ],
   "source": [
    "#similar\n",
    "\", \".join([h2.text.strip() for h2 in soup.select(\"h2.Name-sc-8ygaid-0\")])"
   ]
  },
  {
   "cell_type": "code",
   "execution_count": 11,
   "id": "b4d38c19",
   "metadata": {},
   "outputs": [
    {
     "data": {
      "text/plain": [
       "'Bots & messaging, Video calls & solutions'"
      ]
     },
     "execution_count": 11,
     "metadata": {},
     "output_type": "execute_result"
    }
   ],
   "source": [
    "# category\n",
    "\", \".join([span.text.strip() for span in soup.select(\"a.styles__CategoryLink-sc-9px7lz-3\")])"
   ]
  },
  {
   "cell_type": "code",
   "execution_count": null,
   "id": "56b103b6",
   "metadata": {},
   "outputs": [],
   "source": []
  },
  {
   "cell_type": "code",
   "execution_count": null,
   "id": "1e305e21",
   "metadata": {},
   "outputs": [],
   "source": []
  },
  {
   "cell_type": "code",
   "execution_count": null,
   "id": "059653f1",
   "metadata": {},
   "outputs": [],
   "source": []
  },
  {
   "cell_type": "code",
   "execution_count": null,
   "id": "da2116d6",
   "metadata": {},
   "outputs": [],
   "source": []
  }
 ],
 "metadata": {
  "kernelspec": {
   "display_name": "Python 3 (ipykernel)",
   "language": "python",
   "name": "python3"
  },
  "language_info": {
   "codemirror_mode": {
    "name": "ipython",
    "version": 3
   },
   "file_extension": ".py",
   "mimetype": "text/x-python",
   "name": "python",
   "nbconvert_exporter": "python",
   "pygments_lexer": "ipython3",
   "version": "3.9.4"
  }
 },
 "nbformat": 4,
 "nbformat_minor": 5
}
