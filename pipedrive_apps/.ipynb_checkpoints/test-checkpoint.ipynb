{
 "cells": [
  {
   "cell_type": "code",
   "execution_count": 1,
   "id": "8cd4bbde",
   "metadata": {},
   "outputs": [],
   "source": [
    "import bs4\n",
    "import pandas as pd\n",
    "import re, datetime\n",
    "def get_soup_from_file(fp):\n",
    "        with open(fp, 'r', encoding=\"UTF-8\") as file:\n",
    "            return bs4.BeautifulSoup(str(file.read()), features=\"html.parser\")"
   ]
  },
  {
   "cell_type": "code",
   "execution_count": 3,
   "id": "a5e597ec",
   "metadata": {},
   "outputs": [],
   "source": [
    "soup =  get_soup_from_file(\"app.html\")"
   ]
  },
  {
   "cell_type": "code",
   "execution_count": null,
   "id": "550616d0",
   "metadata": {},
   "outputs": [],
   "source": [
    "def scape_app_data(soup: bs4.BeautifulSoup):\n",
    "    app_data = {\"date\": datetime.date.today(), \"time\": datetime.datetime.utcnow().strftime(\"%r\")}\n",
    "    try: app_data[\"name\"] = soup.select_one(\"h1.t__h1\").text.strip()\n",
    "    except: app_data[\"name\"] = None\n",
    "    try: app_data[\"images\"] = \", \".join([img[\"src\"] for img in soup.select(\".appstore__app-details__main .u__padt__10 img\")])\n",
    "    except: app_data[\"images\"] = None\n",
    "    try: app_data[\"logo\"] = soup.select_one(\"img.appstore__app-details__app-icon\")[\"src\"]\n",
    "    except: app_data[\"logo\"] = None\n",
    "    try: app_data[\"video\"] = soup.select_one(\"div.appstore__app-details__video-embed__container iframe\")['src']\n",
    "    except: app_data[\"video\"] = None\n",
    "    try: app_data[\"category\"] = \", \".join([span.text.strip() for span in soup.select(\"span.appstore__app-details__category-pill\")])\n",
    "    except: app_data[\"category\"] = None\n",
    "    try: app_data[\"details\"] = soup.select_one(\"div.intercom-interblocks\").text.strip()\n",
    "    except: app_data[\"details\"] = None\n",
    "    try: app_data[\"tagline\"] = soup.select_one(\"p.u__mr_x2\").text.strip()\n",
    "    except: app_data[\"tagline\"] = None\n",
    "    try: app_data[\"developer\"] = soup.select(\"span.appstore__app-details__header__badge-opener-text\")[0].text.strip()\n",
    "    except: app_data[\"developer\"] = None\n",
    "    try: app_data[\"pricing_text\"] = soup.select(\"span.appstore__app-details__header__badge-opener-text\")[1].text.strip()\n",
    "    except: app_data[\"pricing_text\"] = None\n",
    "    try: app_data[\"similar\"] = \", \".join([h3.text.strip() for h3 in soup.select(\".appstore__modal__grid__item h3\")])\n",
    "    except: app_data[\"similar\"] = []\n",
    "    return app_data\n",
    "scape_app_data(soup)"
   ]
  },
  {
   "cell_type": "code",
   "execution_count": null,
   "id": "d3e70816",
   "metadata": {},
   "outputs": [],
   "source": []
  },
  {
   "cell_type": "code",
   "execution_count": 5,
   "id": "4b8a23ce",
   "metadata": {},
   "outputs": [
    {
     "data": {
      "text/plain": [
       "'Microsoft Teams'"
      ]
     },
     "execution_count": 5,
     "metadata": {},
     "output_type": "execute_result"
    }
   ],
   "source": [
    "# name\n",
    "soup.select_one(\"h1\").text.strip()"
   ]
  },
  {
   "cell_type": "code",
   "execution_count": 8,
   "id": "63b4ad6c",
   "metadata": {},
   "outputs": [
    {
     "data": {
      "text/plain": [
       "'https://pipedrive-marketplace-manager-live.s3.amazonaws.com/23b45cfa6522e8d5/icon/78eece19-119f-4856-b8de-78cce9bc11ed/original.png'"
      ]
     },
     "execution_count": 8,
     "metadata": {},
     "output_type": "execute_result"
    }
   ],
   "source": [
    "#logo\n",
    "soup.select_one(\"img\").get(\"srcset\") or soup.select_one(\"img\").get(\"src\")"
   ]
  },
  {
   "cell_type": "code",
   "execution_count": 15,
   "id": "ef3ef7c2",
   "metadata": {},
   "outputs": [
    {
     "data": {
      "text/plain": [
       "'7'"
      ]
     },
     "execution_count": 15,
     "metadata": {},
     "output_type": "execute_result"
    }
   ],
   "source": [
    "# review count\n",
    "re.search(\"[0-9]+\", soup.select_one(\"span.ReviewCount-dnn620-0\").text.strip()).group()"
   ]
  },
  {
   "cell_type": "code",
   "execution_count": null,
   "id": "cf2dd490",
   "metadata": {},
   "outputs": [],
   "source": [
    "# tagline\n",
    "soup.select_one(\"p.u__mr_x2\").text.strip()"
   ]
  },
  {
   "cell_type": "code",
   "execution_count": null,
   "id": "94b42fba",
   "metadata": {},
   "outputs": [],
   "source": [
    "# built by\n",
    "soup.select(\"span.appstore__app-details__header__badge-opener-text\")[0].text.strip()\n",
    "# pricing line\n",
    "soup.select(\"span.appstore__app-details__header__badge-opener-text\")[1].text.strip()"
   ]
  },
  {
   "cell_type": "code",
   "execution_count": null,
   "id": "547a310c",
   "metadata": {},
   "outputs": [],
   "source": [
    "# details\n",
    "soup.select_one(\"div.intercom-interblocks\").text.strip()"
   ]
  },
  {
   "cell_type": "code",
   "execution_count": null,
   "id": "00aa171e",
   "metadata": {},
   "outputs": [],
   "source": [
    "# video\n",
    "soup.select_one(\"div.appstore__app-details__video-embed__container iframe\")['src']"
   ]
  },
  {
   "cell_type": "code",
   "execution_count": null,
   "id": "2532409a",
   "metadata": {},
   "outputs": [],
   "source": [
    "# imgs\n",
    "\", \".join([img[\"src\"] for img in soup.select(\".appstore__app-details__main .u__padt__10 img\")])"
   ]
  },
  {
   "cell_type": "code",
   "execution_count": null,
   "id": "2cd89e6b",
   "metadata": {},
   "outputs": [],
   "source": [
    "#similar\n",
    "\", \".join([h3.text.strip() for h3 in soup.select(\".appstore__modal__grid__item h3\")])"
   ]
  },
  {
   "cell_type": "code",
   "execution_count": 11,
   "id": "b4d38c19",
   "metadata": {},
   "outputs": [
    {
     "data": {
      "text/plain": [
       "'Bots & messaging, Video calls & solutions'"
      ]
     },
     "execution_count": 11,
     "metadata": {},
     "output_type": "execute_result"
    }
   ],
   "source": [
    "# category\n",
    "\", \".join([span.text.strip() for span in soup.select(\"a.styles__CategoryLink-sc-9px7lz-3\")])"
   ]
  },
  {
   "cell_type": "code",
   "execution_count": 10,
   "id": "56b103b6",
   "metadata": {},
   "outputs": [
    {
     "data": {
      "text/plain": [
       "'by Pipedrive'"
      ]
     },
     "execution_count": 10,
     "metadata": {},
     "output_type": "execute_result"
    }
   ],
   "source": [
    "# author\n",
    "soup.select_one(\"p.styles__Author-sc-9px7lz-0\").text.strip()"
   ]
  },
  {
   "cell_type": "code",
   "execution_count": null,
   "id": "1e305e21",
   "metadata": {},
   "outputs": [],
   "source": []
  },
  {
   "cell_type": "code",
   "execution_count": null,
   "id": "059653f1",
   "metadata": {},
   "outputs": [],
   "source": []
  },
  {
   "cell_type": "code",
   "execution_count": null,
   "id": "da2116d6",
   "metadata": {},
   "outputs": [],
   "source": []
  }
 ],
 "metadata": {
  "kernelspec": {
   "display_name": "Python 3 (ipykernel)",
   "language": "python",
   "name": "python3"
  },
  "language_info": {
   "codemirror_mode": {
    "name": "ipython",
    "version": 3
   },
   "file_extension": ".py",
   "mimetype": "text/x-python",
   "name": "python",
   "nbconvert_exporter": "python",
   "pygments_lexer": "ipython3",
   "version": "3.9.4"
  }
 },
 "nbformat": 4,
 "nbformat_minor": 5
}
