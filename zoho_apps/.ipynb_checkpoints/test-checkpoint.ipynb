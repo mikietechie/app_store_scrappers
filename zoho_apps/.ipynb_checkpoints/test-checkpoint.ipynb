{
 "cells": [
  {
   "cell_type": "code",
   "execution_count": 2,
   "id": "8cd4bbde",
   "metadata": {},
   "outputs": [],
   "source": [
    "import bs4\n",
    "import pandas as pd\n",
    "import re, datetime\n",
    "def get_soup_from_file(fp):\n",
    "        with open(fp, 'r', encoding=\"UTF-8\") as file:\n",
    "            return bs4.BeautifulSoup(str(file.read()), features=\"html.parser\")"
   ]
  },
  {
   "cell_type": "code",
   "execution_count": 3,
   "id": "a5e597ec",
   "metadata": {},
   "outputs": [],
   "source": [
    "soup =  get_soup_from_file(\"app.html\")"
   ]
  },
  {
   "cell_type": "code",
   "execution_count": 65,
   "id": "550616d0",
   "metadata": {},
   "outputs": [
    {
     "data": {
      "text/plain": [
       "{'date': datetime.date(2021, 11, 13),\n",
       " 'time': '08:43:21 AM',\n",
       " 'name': 'Kaleyra SMS for Zoho CRM',\n",
       " 'images': 'https://mp-img1.zoho.com/view/extension/167000003515125, https://mp-img2.zoho.com/view/extension/167000003515127, https://mp-img2.zoho.com/view/extension/167000003515129, https://mp-img3.zoho.com/view/extension/167000003515131',\n",
       " 'logo': 'https://mp-img1.zoho.com/view/logo/05969519-5667-4109-8bc0-48ea9596a606',\n",
       " 'category': 'Marketing',\n",
       " 'details': 'Use the Kaleyra’s extension for Zoho CRM to send SMS to contacts located anywhere around the globe. Send and receive messages instantly, or schedule planned campaigns. Get notified when you receive messages on your Kaleyra number. Create and manage your own templates for easy execution. Track message delivery with detailed reports and optimize your messaging campaigns. Customize your workflows and do much more.',\n",
       " 'features': 'Connect with your leads, customers, and accounts through SMS conversations on an intuitive interface. View detailed reports and logs to track and manage the delivery of your messages. Send messages immediately or schedule for later—connect with your customers at the right time. Customize workflows, use dynamic variables and URLs in messages, create templates, and do more with Kaleyra',\n",
       " 'tagline': \"Reach and engage with your consumers across the globe using Kaleyra's messaging services\",\n",
       " 'priceline': 'Free',\n",
       " 'developer': 'CRM',\n",
       " 'timeline': 'Jun 20, 2021',\n",
       " 'ratings_count': '5.0',\n",
       " 'rating': '2',\n",
       " 'installs': '200',\n",
       " 'help': 'https://www.kaleyra.com/wp-content/uploads/Zoho-SMS-User-Manual.pdf',\n",
       " 'tags': 'Kaleyra, Messages, SMS API, SMS, Campaigns, Bulk SMS, Communication',\n",
       " 'editions': 'Standard, Professional, Enterprise, CRM Plus, Zoho One, Ultimate',\n",
       " 'platform': 'Sigma'}"
      ]
     },
     "execution_count": 65,
     "metadata": {},
     "output_type": "execute_result"
    }
   ],
   "source": [
    "def scape_app_data(soup: bs4.BeautifulSoup):\n",
    "    app_data = {\"date\": datetime.date.today(), \"time\": datetime.datetime.utcnow().strftime(\"%r\")}\n",
    "    try: app_data[\"name\"] = soup.select_one(\"h1.extn-title.extensionTitle\").text.strip()\n",
    "    except: app_data[\"name\"] = None\n",
    "    try: app_data[\"images\"] = \", \".join([md[\"src\"] for md in soup.select(\"#screenshots img\")])\n",
    "    except: app_data[\"images\"] = None\n",
    "    try: app_data[\"logo\"] = soup.select_one(\"div.extn-cell.extension-icon img\")[\"src\"]\n",
    "    except: app_data[\"logo\"] = None\n",
    "    try: app_data[\"category\"] = [td.find_next_sibling(\"td\").text.strip() for td in soup.select(\"table.vrs-cat-pric td.info-title\") if \"Category\" in td.text][0]\n",
    "    except: app_data[\"category\"] = None\n",
    "    try: app_data[\"details\"] = soup.select_one(\"p.shortDescription.extn-content\").text.strip()\n",
    "    except: app_data[\"details\"] = None\n",
    "    try: app_data[\"features\"] = \". \".join([li.text.strip() for li in soup.select(\"#keyfeature li\")])\n",
    "    except: app_data[\"features\"] = None\n",
    "    try: app_data[\"tagline\"] = soup.select_one(\"p.extn-tagline.extn-content\").text.strip()\n",
    "    except: app_data[\"tagline\"] = None\n",
    "    try: app_data[\"priceline\"] = [td.find_next_sibling(\"td\").text.strip() for td in soup.select(\"table.vrs-cat-pric td.info-title\") if \"Pricing\" in td.text][0]\n",
    "    except: app_data[\"priceline\"] = \"Paid\"\n",
    "    try: app_data[\"developer\"] = soup.select_one('div.extn-cell.extn-tagline-title .extn-tagline.extn-content.partnerTxt.inline-middle a.redirectVendor').text.strip()\n",
    "    except: app_data[\"developer\"] = None\n",
    "    try: app_data[\"timeline\"] = [td.find_next_sibling(\"td\").text.strip() for td in soup.select(\"table.vrs-cat-pric td.info-title\") if \"Published date\" in td.text][0]\n",
    "    except: app_data[\"timeline\"] = None\n",
    "    try: app_data[\"ratings_count\"] = soup.select_one(\"div.extn-sub-head.averageRatingCount\").text.strip()\n",
    "    except: app_data[\"ratings_count\"] = None\n",
    "    try: app_data[\"rating\"] = re.search(\"[0-9]+\", soup.select_one(\"div#avgrating-wrapper span\").text.strip()).group()\n",
    "    except: app_data[\"rating\"] = None\n",
    "    try: app_data[\"installs\"] = re.search(\"[0-9]+\", soup.select_one('div[style=\"margin-top:2px;\"] span').text.strip()).group()\n",
    "    except: app_data[\"installs\"] = None\n",
    "    try: app_data[\"help\"] = \", \".join([a['href'] for a in soup.select(\".extensionResources a\")])\n",
    "    except: app_data[\"help\"] = None\n",
    "    try: app_data[\"tags\"] = \", \".join([a.text.strip() for a in soup.select(\"a.fextn-tit.firstOff.tags-span\")])\n",
    "    except: app_data[\"tags\"] = None\n",
    "    try: app_data[\"editions\"] = \", \".join([li.text.strip() for li in soup.select(\"#supported-edition li\")])\n",
    "    except: app_data[\"editions\"] = None\n",
    "    try: app_data[\"platform\"] = [td.find_next_sibling(\"td\").text.strip() for td in soup.select(\"table.vrs-cat-pric td.info-title\") if \"Platform\" in td.text][0]\n",
    "    except: app_data[\"platform\"] = None\n",
    "    return app_data\n",
    "scape_app_data(soup)"
   ]
  },
  {
   "cell_type": "code",
   "execution_count": 4,
   "id": "4b8a23ce",
   "metadata": {},
   "outputs": [
    {
     "data": {
      "text/plain": [
       "'Kaleyra SMS for Zoho CRM'"
      ]
     },
     "execution_count": 4,
     "metadata": {},
     "output_type": "execute_result"
    }
   ],
   "source": [
    "# name\n",
    "soup.select_one(\"h1.extn-title.extensionTitle\").text.strip()"
   ]
  },
  {
   "cell_type": "code",
   "execution_count": 6,
   "id": "63b4ad6c",
   "metadata": {},
   "outputs": [
    {
     "data": {
      "text/plain": [
       "'https://mp-img1.zoho.com/view/logo/05969519-5667-4109-8bc0-48ea9596a606'"
      ]
     },
     "execution_count": 6,
     "metadata": {},
     "output_type": "execute_result"
    }
   ],
   "source": [
    "#logo\n",
    "soup.select_one(\"div.extn-cell.extension-icon img\")[\"src\"]"
   ]
  },
  {
   "cell_type": "code",
   "execution_count": 5,
   "id": "cf2dd490",
   "metadata": {},
   "outputs": [
    {
     "data": {
      "text/plain": [
       "\"Reach and engage with your consumers across the globe using Kaleyra's messaging services\""
      ]
     },
     "execution_count": 5,
     "metadata": {},
     "output_type": "execute_result"
    }
   ],
   "source": [
    "# tagline\n",
    "soup.select_one(\"p.extn-tagline.extn-content\").text.strip()"
   ]
  },
  {
   "cell_type": "code",
   "execution_count": 8,
   "id": "2cd89e6b",
   "metadata": {},
   "outputs": [
    {
     "data": {
      "text/plain": [
       "'5.0'"
      ]
     },
     "execution_count": 8,
     "metadata": {},
     "output_type": "execute_result"
    }
   ],
   "source": [
    "# average rating\n",
    "soup.select_one(\"div.extn-sub-head.averageRatingCount\").text.strip()"
   ]
  },
  {
   "cell_type": "code",
   "execution_count": 16,
   "id": "589a4a8f",
   "metadata": {},
   "outputs": [
    {
     "data": {
      "text/plain": [
       "'2'"
      ]
     },
     "execution_count": 16,
     "metadata": {},
     "output_type": "execute_result"
    }
   ],
   "source": [
    "# rating count\n",
    "re.search(\"[0-9]+\", soup.select_one(\"div#avgrating-wrapper span\").text.strip()).group()"
   ]
  },
  {
   "cell_type": "code",
   "execution_count": 20,
   "id": "52363669",
   "metadata": {},
   "outputs": [
    {
     "data": {
      "text/plain": [
       "'200'"
      ]
     },
     "execution_count": 20,
     "metadata": {},
     "output_type": "execute_result"
    }
   ],
   "source": [
    "# installs\n",
    "re.search(\"[0-9]+\", soup.select_one('div[style=\"margin-top:2px;\"] span').text.strip()).group()"
   ]
  },
  {
   "cell_type": "code",
   "execution_count": 23,
   "id": "94b42fba",
   "metadata": {},
   "outputs": [
    {
     "data": {
      "text/plain": [
       "'CRM'"
      ]
     },
     "execution_count": 23,
     "metadata": {},
     "output_type": "execute_result"
    }
   ],
   "source": [
    "# developer\n",
    "soup.select_one('div.extn-cell.extn-tagline-title .extn-tagline.extn-content.partnerTxt.inline-middle a.redirectVendor').text.strip()"
   ]
  },
  {
   "cell_type": "code",
   "execution_count": 61,
   "id": "668db6c4",
   "metadata": {
    "collapsed": true
   },
   "outputs": [
    {
     "data": {
      "text/plain": [
       "'Connect with your leads, customers, and accounts through SMS conversations on an intuitive interface. View detailed reports and logs to track and manage the delivery of your messages. Send messages immediately or schedule for later—connect with your customers at the right time. Customize workflows, use dynamic variables and URLs in messages, create templates, and do more with Kaleyra'"
      ]
     },
     "execution_count": 61,
     "metadata": {},
     "output_type": "execute_result"
    }
   ],
   "source": [
    "# features\n",
    "\". \".join([li.text.strip() for li in soup.select(\"#keyfeature li\")])"
   ]
  },
  {
   "cell_type": "code",
   "execution_count": 58,
   "id": "cbce4bd2",
   "metadata": {
    "collapsed": true
   },
   "outputs": [
    {
     "data": {
      "text/plain": [
       "'https://marketplace.zoho.com/app/crm/sms-magic, https://marketplace.zoho.com/app/crm/currency-exchange-rate-for-zoho-crm, https://marketplace.zoho.com/app/crm/smooth-messenger-for-zoho-crm, https://marketplace.zoho.com/app/crm/wepster-extension-for-zoho-crm, https://marketplace.zoho.com/app/crm/burst-sms'"
      ]
     },
     "execution_count": 58,
     "metadata": {},
     "output_type": "execute_result"
    }
   ],
   "source": [
    "# similar\n",
    "\", \".join([f\"https://marketplace.zoho.com{a['href']}\" for a in soup.select('.hExtension_type2.portal-service-crm a.extn-redirection-block[target=\"_parent\"]')])"
   ]
  },
  {
   "cell_type": "code",
   "execution_count": 40,
   "id": "b6a34577",
   "metadata": {},
   "outputs": [
    {
     "data": {
      "text/plain": [
       "'Kaleyra, Messages, SMS API, SMS, Campaigns, Bulk SMS, Communication'"
      ]
     },
     "execution_count": 40,
     "metadata": {},
     "output_type": "execute_result"
    }
   ],
   "source": [
    "# tags\n",
    "\", \".join([a.text.strip() for a in soup.select(\"a.fextn-tit.firstOff.tags-span\")])"
   ]
  },
  {
   "cell_type": "code",
   "execution_count": 41,
   "id": "cb67b86a",
   "metadata": {},
   "outputs": [
    {
     "data": {
      "text/plain": [
       "'Standard, Professional, Enterprise, CRM Plus, Zoho One, Ultimate'"
      ]
     },
     "execution_count": 41,
     "metadata": {},
     "output_type": "execute_result"
    }
   ],
   "source": [
    "# supported editions\n",
    "\", \".join([li.text.strip() for li in soup.select(\"#supported-edition li\")])"
   ]
  },
  {
   "cell_type": "code",
   "execution_count": 39,
   "id": "3eae4183",
   "metadata": {},
   "outputs": [
    {
     "data": {
      "text/plain": [
       "'https://www.kaleyra.com/wp-content/uploads/Zoho-SMS-User-Manual.pdf'"
      ]
     },
     "execution_count": 39,
     "metadata": {},
     "output_type": "execute_result"
    }
   ],
   "source": [
    "# help\n",
    "\", \".join([a['href'] for a in soup.select(\".extensionResources a\")])"
   ]
  },
  {
   "cell_type": "code",
   "execution_count": 50,
   "id": "58cbd764",
   "metadata": {},
   "outputs": [
    {
     "data": {
      "text/plain": [
       "'Jun 20, 2021'"
      ]
     },
     "execution_count": 50,
     "metadata": {},
     "output_type": "execute_result"
    }
   ],
   "source": [
    "# timeline\n",
    "[td.find_next_sibling(\"td\").text.strip() for td in soup.select(\"table.vrs-cat-pric td.info-title\") if \"Published date\" in td.text][0]"
   ]
  },
  {
   "cell_type": "code",
   "execution_count": 51,
   "id": "32699bbd",
   "metadata": {},
   "outputs": [
    {
     "data": {
      "text/plain": [
       "'Marketing'"
      ]
     },
     "execution_count": 51,
     "metadata": {},
     "output_type": "execute_result"
    }
   ],
   "source": [
    "# category\n",
    "[td.find_next_sibling(\"td\").text.strip() for td in soup.select(\"table.vrs-cat-pric td.info-title\") if \"Category\" in td.text][0]"
   ]
  },
  {
   "cell_type": "code",
   "execution_count": 63,
   "id": "547a310c",
   "metadata": {},
   "outputs": [
    {
     "data": {
      "text/plain": [
       "'Use the Kaleyra’s extension for Zoho CRM to send SMS to contacts located anywhere around the globe. Send and receive messages instantly, or schedule planned campaigns. Get notified when you receive messages on your Kaleyra number. Create and manage your own templates for easy execution. Track message delivery with detailed reports and optimize your messaging campaigns. Customize your workflows and do much more.'"
      ]
     },
     "execution_count": 63,
     "metadata": {},
     "output_type": "execute_result"
    }
   ],
   "source": [
    "# details\n",
    "soup.select_one(\"p.shortDescription.extn-content\").text.strip()"
   ]
  },
  {
   "cell_type": "code",
   "execution_count": 52,
   "id": "1a5c0048",
   "metadata": {},
   "outputs": [
    {
     "data": {
      "text/plain": [
       "'Free'"
      ]
     },
     "execution_count": 52,
     "metadata": {},
     "output_type": "execute_result"
    }
   ],
   "source": [
    "# pricing line\n",
    "[td.find_next_sibling(\"td\").text.strip() for td in soup.select(\"table.vrs-cat-pric td.info-title\") if \"Pricing\" in td.text][0]"
   ]
  },
  {
   "cell_type": "code",
   "execution_count": 53,
   "id": "06a573d6",
   "metadata": {},
   "outputs": [
    {
     "data": {
      "text/plain": [
       "'Sigma'"
      ]
     },
     "execution_count": 53,
     "metadata": {},
     "output_type": "execute_result"
    }
   ],
   "source": [
    "# platform\n",
    "[td.find_next_sibling(\"td\").text.strip() for td in soup.select(\"table.vrs-cat-pric td.info-title\") if \"Platform\" in td.text][0]"
   ]
  },
  {
   "cell_type": "code",
   "execution_count": 54,
   "id": "2532409a",
   "metadata": {},
   "outputs": [
    {
     "data": {
      "text/plain": [
       "'https://mp-img1.zoho.com/view/extension/167000003515125, https://mp-img2.zoho.com/view/extension/167000003515127, https://mp-img2.zoho.com/view/extension/167000003515129, https://mp-img3.zoho.com/view/extension/167000003515131'"
      ]
     },
     "execution_count": 54,
     "metadata": {},
     "output_type": "execute_result"
    }
   ],
   "source": [
    "# imgs\n",
    "\", \".join([md[\"src\"] for md in soup.select(\"#screenshots img\")])"
   ]
  }
 ],
 "metadata": {
  "kernelspec": {
   "display_name": "Python 3 (ipykernel)",
   "language": "python",
   "name": "python3"
  },
  "language_info": {
   "codemirror_mode": {
    "name": "ipython",
    "version": 3
   },
   "file_extension": ".py",
   "mimetype": "text/x-python",
   "name": "python",
   "nbconvert_exporter": "python",
   "pygments_lexer": "ipython3",
   "version": "3.9.4"
  }
 },
 "nbformat": 4,
 "nbformat_minor": 5
}
