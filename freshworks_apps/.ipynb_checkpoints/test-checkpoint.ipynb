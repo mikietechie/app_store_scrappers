{
 "cells": [
  {
   "cell_type": "code",
   "execution_count": 1,
   "id": "8cd4bbde",
   "metadata": {},
   "outputs": [],
   "source": [
    "import bs4\n",
    "import pandas as pd\n",
    "import re, datetime\n",
    "def get_soup_from_file(fp):\n",
    "        with open(fp, 'r', encoding=\"UTF-8\") as file:\n",
    "            return bs4.BeautifulSoup(str(file.read()), features=\"html.parser\")"
   ]
  },
  {
   "cell_type": "code",
   "execution_count": 2,
   "id": "a5e597ec",
   "metadata": {},
   "outputs": [],
   "source": [
    "soup =  get_soup_from_file(\"app.html\")"
   ]
  },
  {
   "cell_type": "code",
   "execution_count": 45,
   "id": "550616d0",
   "metadata": {},
   "outputs": [
    {
     "data": {
      "text/plain": [
       "{'date': datetime.date(2021, 11, 12),\n",
       " 'time': '08:33:54 AM',\n",
       " 'name': 'Google Calendar',\n",
       " 'images': 'https://youtu.be/jnxuXj4nW34, https://d3h0owdjgzys62.cloudfront.net/images/71/live_screenshot/large2x/Google_Calendar_Marketplace.jpg, https://d3h0owdjgzys62.cloudfront.net/images/71/live_screenshot/large2x/Google_Calendar_V1.png',\n",
       " 'logo': 'https://d3h0owdjgzys62.cloudfront.net/images/71/live_cover_art/thumb2x/17.png',\n",
       " 'category': 'Agent Productivity',\n",
       " 'details': 'The Google Calendar app will let you handle all your appointments and schedule calls with customers right from the comfort of your helpdesk without having to switch context.\\n\\nIf your team needs visibility into your schedule of customer calls, you can configure a shared Gmail calendar in your helpdesk where all agents will have access to these events.\\n\\nMake the most of the best calendar app and a complete help desk software.',\n",
       " 'instructions': None,\n",
       " 'tagline': 'Book appointments, schedule meetings and calls on your Google calendar right from within Freshdesk',\n",
       " 'priceline': 'Free',\n",
       " 'developer': 'Published by Freshdesk',\n",
       " 'timeline': 'About over 5 years ago in',\n",
       " 'info': 'Works with\\n     \\n          Freshdesk',\n",
       " 'verification': 'Verified by Freshworks',\n",
       " 'help': 'mailto:support@freshdesk.com, https://support.freshdesk.com/support/solutions/articles/77059-the-google-calendar-app'}"
      ]
     },
     "execution_count": 45,
     "metadata": {},
     "output_type": "execute_result"
    }
   ],
   "source": [
    "def scape_app_data(soup: bs4.BeautifulSoup):\n",
    "    app_data = {\"date\": datetime.date.today(), \"time\": datetime.datetime.utcnow().strftime(\"%r\")}\n",
    "    try: app_data[\"name\"] = soup.select_one(\"div.header\").text.strip()\n",
    "    except: app_data[\"name\"] = None\n",
    "    try: app_data[\"images\"] = \", \".join([md[\"src\"] for md in soup.select(\".screenshots .silentbox-item\")])\n",
    "    except: app_data[\"images\"] = None\n",
    "    try: app_data[\"logo\"] = soup.select_one(\".app-cover img\")[\"src\"]\n",
    "    except: app_data[\"logo\"] = None\n",
    "    try: app_data[\"category\"] = \", \".join([a.text.strip() for a in [spacer for spacer in soup.select(\".sidebar .details .spacer\") if \"ago in\" in spacer.text][0].find_next_siblings(\"a\")])\n",
    "    except: app_data[\"category\"] = None\n",
    "    try: app_data[\"details\"] = soup.select_one(\".el-tab-pane .keep-whitespaces.website\").text.strip()\n",
    "    except: app_data[\"details\"] = None\n",
    "    try: app_data[\"instructions\"] = soup.select_one(\"#pane-1 .keep-whitespaces.website\").text.strip()\n",
    "    except: app_data[\"instructions\"] = None\n",
    "    try: app_data[\"tagline\"] = soup.select_one(\".overview\").text.strip()\n",
    "    except: app_data[\"tagline\"] = None\n",
    "    try: app_data[\"priceline\"] = soup.select_one(\".app-cover\").find_previous_sibling(\"span\", class_=\"badge\").text.strip()\n",
    "    except: app_data[\"priceline\"] = \"Paid\"\n",
    "    try: app_data[\"developer\"] = [spacer.text.strip() for spacer in soup.select(\".sidebar .details .spacer\") if \"Published by\" in spacer.text][0]\n",
    "    except: app_data[\"developer\"] = None\n",
    "    try: app_data[\"timeline\"] = [spacer.text.strip() for spacer in soup.select(\".sidebar .details .spacer\") if \"ago in\" in spacer.text][0]\n",
    "    except: app_data[\"timeline\"] = None\n",
    "    try: app_data[\"info\"] = soup.select_one(\".sidebar .details .product-info\").parent.text.strip()\n",
    "    except: app_data[\"info\"] = None\n",
    "    try: app_data[\"verification\"] = soup.select_one(\".freshworks-verified\").text.strip()\n",
    "    except: app_data[\"verification\"] = None\n",
    "    try: app_data[\"help\"] = \", \".join([a[\"href\"] for a in soup.select(\".help a\")])\n",
    "    except: app_data[\"help\"] = None\n",
    "    return app_data\n",
    "scape_app_data(soup)"
   ]
  },
  {
   "cell_type": "code",
   "execution_count": 29,
   "id": "2cd89e6b",
   "metadata": {},
   "outputs": [
    {
     "data": {
      "text/plain": [
       "'mailto:support@freshdesk.com, https://support.freshdesk.com/support/solutions/articles/77059-the-google-calendar-app'"
      ]
     },
     "execution_count": 29,
     "metadata": {},
     "output_type": "execute_result"
    }
   ],
   "source": [
    "\n",
    "# help links\n",
    "\", \".join([a[\"href\"] for a in soup.select(\".help a\")])"
   ]
  },
  {
   "cell_type": "code",
   "execution_count": null,
   "id": "d3e70816",
   "metadata": {},
   "outputs": [],
   "source": [
    "soup.select_one(\".App\")"
   ]
  },
  {
   "cell_type": "code",
   "execution_count": 3,
   "id": "4b8a23ce",
   "metadata": {},
   "outputs": [
    {
     "data": {
      "text/plain": [
       "'Google Calendar'"
      ]
     },
     "execution_count": 3,
     "metadata": {},
     "output_type": "execute_result"
    }
   ],
   "source": [
    "# name\n",
    "soup.select_one(\"div.header\").text.strip()"
   ]
  },
  {
   "cell_type": "code",
   "execution_count": 4,
   "id": "63b4ad6c",
   "metadata": {},
   "outputs": [
    {
     "data": {
      "text/plain": [
       "'https://d3h0owdjgzys62.cloudfront.net/images/71/live_cover_art/thumb2x/17.png'"
      ]
     },
     "execution_count": 4,
     "metadata": {},
     "output_type": "execute_result"
    }
   ],
   "source": [
    "#logo\n",
    "soup.select_one(\".app-cover img\")[\"src\"]"
   ]
  },
  {
   "cell_type": "code",
   "execution_count": 5,
   "id": "cf2dd490",
   "metadata": {},
   "outputs": [
    {
     "data": {
      "text/plain": [
       "'Book appointments, schedule meetings and calls on your Google calendar right from within Freshdesk'"
      ]
     },
     "execution_count": 5,
     "metadata": {},
     "output_type": "execute_result"
    }
   ],
   "source": [
    "# tagline\n",
    "soup.select_one(\".overview\").text.strip()"
   ]
  },
  {
   "cell_type": "code",
   "execution_count": 35,
   "id": "94b42fba",
   "metadata": {},
   "outputs": [
    {
     "data": {
      "text/plain": [
       "'Published by Freshdesk'"
      ]
     },
     "execution_count": 35,
     "metadata": {},
     "output_type": "execute_result"
    }
   ],
   "source": [
    "# built by\n",
    "[spacer.text.strip() for spacer in soup.select(\".sidebar .details .spacer\") if \"Published by\" in spacer.text][0]"
   ]
  },
  {
   "cell_type": "code",
   "execution_count": 50,
   "id": "25f02a87",
   "metadata": {},
   "outputs": [
    {
     "data": {
      "text/plain": [
       "'Free'"
      ]
     },
     "execution_count": 50,
     "metadata": {},
     "output_type": "execute_result"
    }
   ],
   "source": [
    "# pricing line\n",
    "soup.select_one(\".app-cover\").find_previous_sibling(\"span\", class_=\"badge\").text.strip()"
   ]
  },
  {
   "cell_type": "code",
   "execution_count": 7,
   "id": "547a310c",
   "metadata": {},
   "outputs": [
    {
     "data": {
      "text/plain": [
       "'The Google Calendar app will let you handle all your appointments and schedule calls with customers right from the comfort of your helpdesk without having to switch context.\\n\\nIf your team needs visibility into your schedule of customer calls, you can configure a shared Gmail calendar in your helpdesk where all agents will have access to these events.\\n\\nMake the most of the best calendar app and a complete help desk software.'"
      ]
     },
     "execution_count": 7,
     "metadata": {},
     "output_type": "execute_result"
    }
   ],
   "source": [
    "# details\n",
    "soup.select_one(\".el-tab-pane .keep-whitespaces.website\").text.strip()"
   ]
  },
  {
   "cell_type": "code",
   "execution_count": 44,
   "id": "441700eb",
   "metadata": {},
   "outputs": [
    {
     "ename": "AttributeError",
     "evalue": "'NoneType' object has no attribute 'text'",
     "output_type": "error",
     "traceback": [
      "\u001b[1;31m---------------------------------------------------------------------------\u001b[0m",
      "\u001b[1;31mAttributeError\u001b[0m                            Traceback (most recent call last)",
      "\u001b[1;32m~\\AppData\\Local\\Temp/ipykernel_4524/1813049265.py\u001b[0m in \u001b[0;36m<module>\u001b[1;34m\u001b[0m\n\u001b[0;32m      1\u001b[0m \u001b[1;31m# instructions\u001b[0m\u001b[1;33m\u001b[0m\u001b[1;33m\u001b[0m\u001b[1;33m\u001b[0m\u001b[0m\n\u001b[1;32m----> 2\u001b[1;33m \u001b[0msoup\u001b[0m\u001b[1;33m.\u001b[0m\u001b[0mselect_one\u001b[0m\u001b[1;33m(\u001b[0m\u001b[1;34m\"#pane-1 .keep-whitespaces.website\"\u001b[0m\u001b[1;33m)\u001b[0m\u001b[1;33m.\u001b[0m\u001b[0mtext\u001b[0m\u001b[1;33m.\u001b[0m\u001b[0mstrip\u001b[0m\u001b[1;33m(\u001b[0m\u001b[1;33m)\u001b[0m\u001b[1;33m\u001b[0m\u001b[1;33m\u001b[0m\u001b[0m\n\u001b[0m",
      "\u001b[1;31mAttributeError\u001b[0m: 'NoneType' object has no attribute 'text'"
     ]
    }
   ],
   "source": [
    "# instructions\n",
    "soup.select_one(\"#pane-1 .keep-whitespaces.website\").text.strip()"
   ]
  },
  {
   "cell_type": "code",
   "execution_count": 10,
   "id": "ac4197c9",
   "metadata": {},
   "outputs": [
    {
     "data": {
      "text/plain": [
       "'Works with\\n     \\n          Freshdesk'"
      ]
     },
     "execution_count": 10,
     "metadata": {},
     "output_type": "execute_result"
    }
   ],
   "source": [
    "#info\n",
    "soup.select_one(\".sidebar .details .product-info\").parent.text.strip()"
   ]
  },
  {
   "cell_type": "code",
   "execution_count": null,
   "id": "0a1bb4dc",
   "metadata": {},
   "outputs": [],
   "source": []
  },
  {
   "cell_type": "code",
   "execution_count": null,
   "id": "2532409a",
   "metadata": {},
   "outputs": [],
   "source": [
    "# imgs\n",
    "\", \".join([md[\"src\"] for md in soup.select(\".screenshots .silentbox-item\")])"
   ]
  },
  {
   "cell_type": "code",
   "execution_count": 36,
   "id": "418d7ecb",
   "metadata": {
    "collapsed": true
   },
   "outputs": [
    {
     "ename": "IndexError",
     "evalue": "list index out of range",
     "output_type": "error",
     "traceback": [
      "\u001b[1;31m---------------------------------------------------------------------------\u001b[0m",
      "\u001b[1;31mIndexError\u001b[0m                                Traceback (most recent call last)",
      "\u001b[1;32m~\\AppData\\Local\\Temp/ipykernel_4524/4007130898.py\u001b[0m in \u001b[0;36m<module>\u001b[1;34m\u001b[0m\n\u001b[0;32m      1\u001b[0m \u001b[1;31m# version\u001b[0m\u001b[1;33m\u001b[0m\u001b[1;33m\u001b[0m\u001b[1;33m\u001b[0m\u001b[0m\n\u001b[1;32m----> 2\u001b[1;33m \u001b[1;33m[\u001b[0m\u001b[0mspacer\u001b[0m\u001b[1;33m.\u001b[0m\u001b[0mtext\u001b[0m\u001b[1;33m.\u001b[0m\u001b[0mstrip\u001b[0m\u001b[1;33m(\u001b[0m\u001b[1;33m)\u001b[0m \u001b[1;32mfor\u001b[0m \u001b[0mspacer\u001b[0m \u001b[1;32min\u001b[0m \u001b[0msoup\u001b[0m\u001b[1;33m.\u001b[0m\u001b[0mselect\u001b[0m\u001b[1;33m(\u001b[0m\u001b[1;34m\".sidebar .details .spacer\"\u001b[0m\u001b[1;33m)\u001b[0m \u001b[1;32mif\u001b[0m \u001b[1;34m\"Version\"\u001b[0m \u001b[1;32min\u001b[0m \u001b[0mspacer\u001b[0m\u001b[1;33m.\u001b[0m\u001b[0mtext\u001b[0m\u001b[1;33m]\u001b[0m\u001b[1;33m[\u001b[0m\u001b[1;36m0\u001b[0m\u001b[1;33m]\u001b[0m\u001b[1;33m\u001b[0m\u001b[1;33m\u001b[0m\u001b[0m\n\u001b[0m",
      "\u001b[1;31mIndexError\u001b[0m: list index out of range"
     ]
    }
   ],
   "source": [
    "# version\n",
    "[spacer.text.strip() for spacer in soup.select(\".sidebar .details .spacer\") if \"Version\" in spacer.text][0]"
   ]
  },
  {
   "cell_type": "code",
   "execution_count": 37,
   "id": "b4d38c19",
   "metadata": {},
   "outputs": [
    {
     "data": {
      "text/plain": [
       "'About over 5 years ago in'"
      ]
     },
     "execution_count": 37,
     "metadata": {},
     "output_type": "execute_result"
    }
   ],
   "source": [
    "# timeline\n",
    "[spacer.text.strip() for spacer in soup.select(\".sidebar .details .spacer\") if \"ago in\" in spacer.text][0]"
   ]
  },
  {
   "cell_type": "code",
   "execution_count": 41,
   "id": "031b4816",
   "metadata": {},
   "outputs": [
    {
     "data": {
      "text/plain": [
       "'Agent Productivity'"
      ]
     },
     "execution_count": 41,
     "metadata": {},
     "output_type": "execute_result"
    }
   ],
   "source": [
    "# category\n",
    "\", \".join([a.text.strip() for a in [spacer for spacer in soup.select(\".sidebar .details .spacer\") if \"ago in\" in spacer.text][0].find_next_siblings(\"a\")])"
   ]
  },
  {
   "cell_type": "code",
   "execution_count": null,
   "id": "56b103b6",
   "metadata": {},
   "outputs": [],
   "source": [
    "# verification\n",
    "soup.select_one(\".freshworks-verified\").text.strip()"
   ]
  },
  {
   "cell_type": "code",
   "execution_count": null,
   "id": "1e305e21",
   "metadata": {},
   "outputs": [],
   "source": []
  },
  {
   "cell_type": "code",
   "execution_count": null,
   "id": "059653f1",
   "metadata": {},
   "outputs": [],
   "source": []
  },
  {
   "cell_type": "code",
   "execution_count": null,
   "id": "da2116d6",
   "metadata": {},
   "outputs": [],
   "source": []
  }
 ],
 "metadata": {
  "kernelspec": {
   "display_name": "Python 3 (ipykernel)",
   "language": "python",
   "name": "python3"
  },
  "language_info": {
   "codemirror_mode": {
    "name": "ipython",
    "version": 3
   },
   "file_extension": ".py",
   "mimetype": "text/x-python",
   "name": "python",
   "nbconvert_exporter": "python",
   "pygments_lexer": "ipython3",
   "version": "3.9.4"
  }
 },
 "nbformat": 4,
 "nbformat_minor": 5
}
