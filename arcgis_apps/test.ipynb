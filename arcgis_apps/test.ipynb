{
 "cells": [
  {
   "cell_type": "code",
   "execution_count": 1,
   "id": "8cd4bbde",
   "metadata": {},
   "outputs": [],
   "source": [
    "import bs4\n",
    "import pandas as pd\n",
    "import re, datetime\n",
    "def get_soup_from_file(fp):\n",
    "        with open(fp, 'r', encoding=\"UTF-8\") as file:\n",
    "            return bs4.BeautifulSoup(str(file.read()), features=\"html.parser\")"
   ]
  },
  {
   "cell_type": "code",
   "execution_count": 3,
   "id": "a5e597ec",
   "metadata": {},
   "outputs": [],
   "source": [
    "soup =  get_soup_from_file(\"app.html\")"
   ]
  },
  {
   "cell_type": "code",
   "execution_count": 35,
   "id": "550616d0",
   "metadata": {},
   "outputs": [
    {
     "data": {
      "text/plain": [
       "{'date': datetime.date(2021, 11, 12),\n",
       " 'time': '08:18:08 PM',\n",
       " 'name': 'AerialSphere for ArcGIS',\n",
       " 'images': 'https://www.arcgis.com/sharing/rest/content/listings/969992ab0f2d4acd9a5e3d2b85bcba84/info/screenshots/screenshot_1634328367754.png, https://www.arcgis.com/sharing/rest/content/listings/969992ab0f2d4acd9a5e3d2b85bcba84/info/screenshots/screenshot_1634328367754.png, https://www.arcgis.com/sharing/rest/content/listings/969992ab0f2d4acd9a5e3d2b85bcba84/info/screenshots/screenshot_1634328367754.png, https://www.arcgis.com/sharing/rest/content/listings/969992ab0f2d4acd9a5e3d2b85bcba84/info/screenshots/screenshot_1634340651146.png, https://www.arcgis.com/sharing/rest/content/listings/969992ab0f2d4acd9a5e3d2b85bcba84/info/screenshots/screenshot_1634340679328.png, https://www.arcgis.com/sharing/rest/content/listings/969992ab0f2d4acd9a5e3d2b85bcba84/info/screenshots/screenshot_1636145428287.png, https://i.ytimg.com/vi/rb7C9F9To3M/hqdefault.jpg',\n",
       " 'logo': 'https://www.arcgis.com/sharing/rest/content/listings/969992ab0f2d4acd9a5e3d2b85bcba84/info/largethumbnail/blob.png',\n",
       " 'details': 'AerialSphere\\xa0Immersive 360° Imagery is Now Available for ArcGIS users.ArcGIS is the most powerful mapping & spatial analytics technology available. Couple that with the only georectified national library of 360-degree aerial imagery and you have an unparalleled solution that can help you visualize, analyze and compose next-level maps.We are proud to offer coverage over more than 70 of the largest MSAs in the United States using the ArcGIS Oriented Imagery Viewer (OIV). Contact us at\\xa0sales@aerialsphere.com\\xa0for details on coverage and pricing.We invite you to join our\\xa0Public OIC from AerialSphere Group\\xa0where you can learn more about Oriented Imagery and access sample catalogs.\\xa0We are currently making our extensive coverage of the\\xa0Phoenix Metro Market\\xa0(400+ panoramas) and\\xa0Esri Redlands Campus\\xa0(24 panoramas) available to the Esri Community for free.\\xa0Click here to view our StoryMap on AerialSphere and OICClick here to watch a demo of Oriented Imagery\\xa0- Parks/Heat IslandsClick here to experience a live demo of Oriented Imagery\\xa0- Scottsdale Mall',\n",
       " 'tagline': 'AerialSphere',\n",
       " 'info': 'Business needsEconomic DevelopmentFacility ManagementField Service ManagementRisk ManagementSituational AwarenessIndustriesState and Local GovernmentReal EstateElectric and Gas UtilitiesTransportationPublic SafetyWorks withArcGIS AppsArcGIS OnlineArcGIS ProPlatformDesktopMobileWebSystem RequirementsOriented Imagery is available for the following Esri Products:- ArcGIS Pro- Experience Builder (Online & Developer)- WebApp Builder (Developer)Version1.0Listed DateOctober 27th, 2021Contact InformationAerialSpherehttps://www.aerialsphere.com/esri-partnership/Email6026750079'}"
      ]
     },
     "execution_count": 35,
     "metadata": {},
     "output_type": "execute_result"
    }
   ],
   "source": [
    "def scape_app_data(soup: bs4.BeautifulSoup):\n",
    "    app_data = {\"date\": datetime.date.today(), \"time\": datetime.datetime.utcnow().strftime(\"%r\")}\n",
    "    try: app_data[\"name\"] = soup.select_one(\"p.listingsGallery-header-heading.avenir-light\").text.strip()\n",
    "    except: app_data[\"name\"] = None\n",
    "    try: app_data[\"images\"] = \", \".join([(url[:-4] if url.endswith('\");,') else url[:-3] ) for url in re.findall(r'(https?://[^\\s]+)', \", \".join([div[\"style\"] for div in soup.select(\".listingsGallery-mainimage, .listingsGalleryThumbnail\")]))])\n",
    "    except: app_data[\"images\"] = None\n",
    "    try: app_data[\"logo\"] = soup.select_one(\".listingsGallery-header-logo img\").get(\"src\")\n",
    "    except: app_data[\"logo\"] = None\n",
    "    try: app_data[\"details\"] = soup.select_one(\".tab-contents .column-14\").text.strip()\n",
    "    except: app_data[\"details\"] = None\n",
    "    try: app_data[\"tagline\"] =soup.select_one(\"p.listingsGallery-header-subheader.avenir-light\").text.strip()\n",
    "    except: app_data[\"tagline\"] = None\n",
    "    try: app_data[\"info\"] = soup.select_one(\".network-table .network-table-content\").text.strip()\n",
    "    except: app_data[\"info\"] = None\n",
    "    return app_data\n",
    "scape_app_data(soup)"
   ]
  },
  {
   "cell_type": "code",
   "execution_count": 5,
   "id": "4b8a23ce",
   "metadata": {
    "collapsed": true
   },
   "outputs": [
    {
     "data": {
      "text/plain": [
       "'AerialSphere for ArcGIS'"
      ]
     },
     "execution_count": 5,
     "metadata": {},
     "output_type": "execute_result"
    }
   ],
   "source": [
    "# name\n",
    "soup.select_one(\"p.listingsGallery-header-heading.avenir-light\").text.strip()"
   ]
  },
  {
   "cell_type": "code",
   "execution_count": 4,
   "id": "63b4ad6c",
   "metadata": {
    "collapsed": true
   },
   "outputs": [
    {
     "data": {
      "text/plain": [
       "'https://www.arcgis.com/sharing/rest/content/listings/969992ab0f2d4acd9a5e3d2b85bcba84/info/largethumbnail/blob.png'"
      ]
     },
     "execution_count": 4,
     "metadata": {},
     "output_type": "execute_result"
    }
   ],
   "source": [
    "#logo\n",
    "soup.select_one(\".listingsGallery-header-logo img\").get(\"src\")"
   ]
  },
  {
   "cell_type": "code",
   "execution_count": 6,
   "id": "cf2dd490",
   "metadata": {
    "collapsed": true
   },
   "outputs": [
    {
     "data": {
      "text/plain": [
       "'AerialSphere'"
      ]
     },
     "execution_count": 6,
     "metadata": {},
     "output_type": "execute_result"
    }
   ],
   "source": [
    "# tagline\n",
    "soup.select_one(\"p.listingsGallery-header-subheader.avenir-light\").text.strip()"
   ]
  },
  {
   "cell_type": "code",
   "execution_count": 34,
   "id": "94b42fba",
   "metadata": {
    "collapsed": true
   },
   "outputs": [
    {
     "data": {
      "text/plain": [
       "'Business needsEconomic DevelopmentFacility ManagementField Service ManagementRisk ManagementSituational AwarenessIndustriesState and Local GovernmentReal EstateElectric and Gas UtilitiesTransportationPublic SafetyWorks withArcGIS AppsArcGIS OnlineArcGIS ProPlatformDesktopMobileWebSystem RequirementsOriented Imagery is available for the following Esri Products:- ArcGIS Pro- Experience Builder (Online & Developer)- WebApp Builder (Developer)Version1.0Listed DateOctober 27th, 2021Contact InformationAerialSpherehttps://www.aerialsphere.com/esri-partnership/Email6026750079'"
      ]
     },
     "execution_count": 34,
     "metadata": {},
     "output_type": "execute_result"
    }
   ],
   "source": [
    "# info\n",
    "soup.select_one(\".network-table .network-table-content\").text.strip()"
   ]
  },
  {
   "cell_type": "code",
   "execution_count": 31,
   "id": "547a310c",
   "metadata": {
    "collapsed": true
   },
   "outputs": [
    {
     "data": {
      "text/plain": [
       "'AerialSphere\\xa0Immersive 360° Imagery is Now Available for ArcGIS users.ArcGIS is the most powerful mapping & spatial analytics technology available. Couple that with the only georectified national library of 360-degree aerial imagery and you have an unparalleled solution that can help you visualize, analyze and compose next-level maps.We are proud to offer coverage over more than 70 of the largest MSAs in the United States using the ArcGIS Oriented Imagery Viewer (OIV). Contact us at\\xa0sales@aerialsphere.com\\xa0for details on coverage and pricing.We invite you to join our\\xa0Public OIC from AerialSphere Group\\xa0where you can learn more about Oriented Imagery and access sample catalogs.\\xa0We are currently making our extensive coverage of the\\xa0Phoenix Metro Market\\xa0(400+ panoramas) and\\xa0Esri Redlands Campus\\xa0(24 panoramas) available to the Esri Community for free.\\xa0Click here to view our StoryMap on AerialSphere and OICClick here to watch a demo of Oriented Imagery\\xa0- Parks/Heat IslandsClick here to experience a live demo of Oriented Imagery\\xa0- Scottsdale Mall'"
      ]
     },
     "execution_count": 31,
     "metadata": {},
     "output_type": "execute_result"
    }
   ],
   "source": [
    "# details\n",
    "soup.select_one(\".tab-contents .column-14\").text.strip()"
   ]
  },
  {
   "cell_type": "code",
   "execution_count": 30,
   "id": "2532409a",
   "metadata": {
    "collapsed": true
   },
   "outputs": [
    {
     "data": {
      "text/plain": [
       "'https://www.arcgis.com/sharing/rest/content/listings/969992ab0f2d4acd9a5e3d2b85bcba84/info/screenshots/screenshot_1634328367754.png, https://www.arcgis.com/sharing/rest/content/listings/969992ab0f2d4acd9a5e3d2b85bcba84/info/screenshots/screenshot_1634328367754.png, https://www.arcgis.com/sharing/rest/content/listings/969992ab0f2d4acd9a5e3d2b85bcba84/info/screenshots/screenshot_1634328367754.png, https://www.arcgis.com/sharing/rest/content/listings/969992ab0f2d4acd9a5e3d2b85bcba84/info/screenshots/screenshot_1634340651146.png, https://www.arcgis.com/sharing/rest/content/listings/969992ab0f2d4acd9a5e3d2b85bcba84/info/screenshots/screenshot_1634340679328.png, https://www.arcgis.com/sharing/rest/content/listings/969992ab0f2d4acd9a5e3d2b85bcba84/info/screenshots/screenshot_1636145428287.png, https://i.ytimg.com/vi/rb7C9F9To3M/hqdefault.jpg'"
      ]
     },
     "execution_count": 30,
     "metadata": {},
     "output_type": "execute_result"
    }
   ],
   "source": [
    "# imgs\n",
    "\", \".join([(url[:-4] if url.endswith('\");,') else url[:-3] ) for url in re.findall(r'(https?://[^\\s]+)', \", \".join([div[\"style\"] for div in soup.select(\".listingsGallery-mainimage, .listingsGalleryThumbnail\")]))])"
   ]
  },
  {
   "cell_type": "code",
   "execution_count": null,
   "id": "da2116d6",
   "metadata": {},
   "outputs": [],
   "source": []
  }
 ],
 "metadata": {
  "kernelspec": {
   "display_name": "Python 3 (ipykernel)",
   "language": "python",
   "name": "python3"
  },
  "language_info": {
   "codemirror_mode": {
    "name": "ipython",
    "version": 3
   },
   "file_extension": ".py",
   "mimetype": "text/x-python",
   "name": "python",
   "nbconvert_exporter": "python",
   "pygments_lexer": "ipython3",
   "version": "3.9.4"
  }
 },
 "nbformat": 4,
 "nbformat_minor": 5
}
