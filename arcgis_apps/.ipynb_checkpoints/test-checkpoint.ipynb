{
 "cells": [
  {
   "cell_type": "code",
   "execution_count": 1,
   "id": "8cd4bbde",
   "metadata": {},
   "outputs": [],
   "source": [
    "import bs4\n",
    "import pandas as pd\n",
    "import re, datetime\n",
    "def get_soup_from_file(fp):\n",
    "        with open(fp, 'r', encoding=\"UTF-8\") as file:\n",
    "            return bs4.BeautifulSoup(str(file.read()), features=\"html.parser\")"
   ]
  },
  {
   "cell_type": "code",
   "execution_count": 3,
   "id": "a5e597ec",
   "metadata": {},
   "outputs": [],
   "source": [
    "soup =  get_soup_from_file(\"app.html\")"
   ]
  },
  {
   "cell_type": "code",
   "execution_count": null,
   "id": "550616d0",
   "metadata": {},
   "outputs": [],
   "source": [
    "def scape_app_data(soup: bs4.BeautifulSoup):\n",
    "    app_data = {\"date\": datetime.date.today(), \"time\": datetime.datetime.utcnow().strftime(\"%r\")}\n",
    "    try: app_data[\"name\"] = soup.select_one(\"h1\").text.strip()\n",
    "    except: app_data[\"name\"] = None\n",
    "    try: app_data[\"images\"] = \", \".join([img[\"src\"] for img in soup.select(\"section.screenshots .image-gallery-slide-wrapper img\")])\n",
    "    except: app_data[\"images\"] = None\n",
    "    try: app_data[\"logo\"] = soup.select_one(\"img\").get(\"srcset\") or soup.select_one(\"img\").get(\"src\")\n",
    "    except: app_data[\"logo\"] = None\n",
    "    try: app_data[\"rating\"] = len(soup.select('div[data-testid=\"Header-Stats\"] svg.cui4-icon.cui4-icon--yellow'))\n",
    "    except: app_data[\"rating\"] = None\n",
    "    try: app_data[\"reviews_count\"] = re.search(\"[0-9]+\", soup.select_one(\"span.ReviewCount-dnn620-0\").text.strip()).group()\n",
    "    except: app_data[\"reviews_count\"] = None\n",
    "    try: app_data[\"category\"] = \", \".join([span.text.strip() for span in soup.select(\"a.styles__CategoryLink-sc-9px7lz-3\")])\n",
    "    except: app_data[\"category\"] = None\n",
    "    try: app_data[\"details\"] = soup.select_one(\"section.Container-x87hbt-0.styles__AppDetailsContainer-xor6ij-0.styles__ContentWrapper-xor6ij-1\").text.strip()\n",
    "    except: app_data[\"details\"] = None\n",
    "    try: app_data[\"tagline\"] = soup.select_one(\"p.Caption-uyiun5-0\").text.strip()\n",
    "    except: app_data[\"tagline\"] = None\n",
    "    try: app_data[\"developer\"] = soup.select_one(\"p.styles__Author-sc-9px7lz-0\").text.strip()\n",
    "    except: app_data[\"developer\"] = None\n",
    "    try: app_data[\"similar\"] = \", \".join([h2.text.strip() for h2 in soup.select(\"h2.Name-sc-8ygaid-0\")])\n",
    "    except: app_data[\"similar\"] = None\n",
    "    return app_data\n",
    "scape_app_data(soup)"
   ]
  },
  {
   "cell_type": "code",
   "execution_count": null,
   "id": "d3e70816",
   "metadata": {},
   "outputs": [],
   "source": [
    "df = pd.read_csv(\"apps.csv\")\n",
    "df"
   ]
  },
  {
   "cell_type": "code",
   "execution_count": 5,
   "id": "4b8a23ce",
   "metadata": {},
   "outputs": [
    {
     "data": {
      "text/plain": [
       "'AerialSphere for ArcGIS'"
      ]
     },
     "execution_count": 5,
     "metadata": {},
     "output_type": "execute_result"
    }
   ],
   "source": [
    "# name\n",
    "soup.select_one(\"p.listingsGallery-header-heading.avenir-light\").text.strip()"
   ]
  },
  {
   "cell_type": "code",
   "execution_count": 4,
   "id": "63b4ad6c",
   "metadata": {},
   "outputs": [
    {
     "data": {
      "text/plain": [
       "'https://www.arcgis.com/sharing/rest/content/listings/969992ab0f2d4acd9a5e3d2b85bcba84/info/largethumbnail/blob.png'"
      ]
     },
     "execution_count": 4,
     "metadata": {},
     "output_type": "execute_result"
    }
   ],
   "source": [
    "#logo\n",
    "soup.select_one(\".listingsGallery-header-logo img\").get(\"src\")"
   ]
  },
  {
   "cell_type": "code",
   "execution_count": null,
   "id": "d9f0989f",
   "metadata": {},
   "outputs": [],
   "source": [
    "# review count\n",
    "re.search(\"[0-9]+\", soup.select_one(\"span.ReviewCount-dnn620-0\").text.strip()).group()"
   ]
  },
  {
   "cell_type": "code",
   "execution_count": null,
   "id": "bd7d72fe",
   "metadata": {},
   "outputs": [],
   "source": [
    "# avg rating\n",
    "len(soup.select('div[data-testid=\"Header-Stats\"] svg.cui4-icon.cui4-icon--yellow'))"
   ]
  },
  {
   "cell_type": "code",
   "execution_count": 6,
   "id": "cf2dd490",
   "metadata": {},
   "outputs": [
    {
     "data": {
      "text/plain": [
       "'AerialSphere'"
      ]
     },
     "execution_count": 6,
     "metadata": {},
     "output_type": "execute_result"
    }
   ],
   "source": [
    "# tagline\n",
    "soup.select_one(\"p.listingsGallery-header-subheader.avenir-light\").text.strip()"
   ]
  },
  {
   "cell_type": "code",
   "execution_count": null,
   "id": "94b42fba",
   "metadata": {},
   "outputs": [],
   "source": [
    "# built by\n",
    "soup.select_one(\"p.styles__Author-sc-9px7lz-0\").text.strip()"
   ]
  },
  {
   "cell_type": "code",
   "execution_count": null,
   "id": "547a310c",
   "metadata": {},
   "outputs": [],
   "source": [
    "# details\n",
    "soup.select_one(\"section.Container-x87hbt-0.styles__AppDetailsContainer-xor6ij-0.styles__ContentWrapper-xor6ij-1\").text.strip()"
   ]
  },
  {
   "cell_type": "code",
   "execution_count": 30,
   "id": "2532409a",
   "metadata": {},
   "outputs": [
    {
     "data": {
      "text/plain": [
       "'https://www.arcgis.com/sharing/rest/content/listings/969992ab0f2d4acd9a5e3d2b85bcba84/info/screenshots/screenshot_1634328367754.png, https://www.arcgis.com/sharing/rest/content/listings/969992ab0f2d4acd9a5e3d2b85bcba84/info/screenshots/screenshot_1634328367754.png, https://www.arcgis.com/sharing/rest/content/listings/969992ab0f2d4acd9a5e3d2b85bcba84/info/screenshots/screenshot_1634328367754.png, https://www.arcgis.com/sharing/rest/content/listings/969992ab0f2d4acd9a5e3d2b85bcba84/info/screenshots/screenshot_1634340651146.png, https://www.arcgis.com/sharing/rest/content/listings/969992ab0f2d4acd9a5e3d2b85bcba84/info/screenshots/screenshot_1634340679328.png, https://www.arcgis.com/sharing/rest/content/listings/969992ab0f2d4acd9a5e3d2b85bcba84/info/screenshots/screenshot_1636145428287.png, https://i.ytimg.com/vi/rb7C9F9To3M/hqdefault.jpg'"
      ]
     },
     "execution_count": 30,
     "metadata": {},
     "output_type": "execute_result"
    }
   ],
   "source": [
    "\", \".join([(url[:-4] if url.endswith('\");,') else url[:-3] ) for url in re.findall(r'(https?://[^\\s]+)', \", \".join([div[\"style\"] for div in soup.select(\".listingsGallery-mainimage, .listingsGalleryThumbnail\")]))])"
   ]
  },
  {
   "cell_type": "code",
   "execution_count": null,
   "id": "2cd89e6b",
   "metadata": {},
   "outputs": [],
   "source": [
    "#similar\n",
    "\", \".join([h2.text.strip() for h2 in soup.select(\"h2.Name-sc-8ygaid-0\")])"
   ]
  },
  {
   "cell_type": "code",
   "execution_count": null,
   "id": "b4d38c19",
   "metadata": {},
   "outputs": [],
   "source": [
    "# category\n",
    "\", \".join([span.text.strip() for span in soup.select(\"a.styles__CategoryLink-sc-9px7lz-3\")])"
   ]
  },
  {
   "cell_type": "code",
   "execution_count": null,
   "id": "56b103b6",
   "metadata": {},
   "outputs": [],
   "source": []
  },
  {
   "cell_type": "code",
   "execution_count": null,
   "id": "1e305e21",
   "metadata": {},
   "outputs": [],
   "source": []
  },
  {
   "cell_type": "code",
   "execution_count": null,
   "id": "059653f1",
   "metadata": {},
   "outputs": [],
   "source": []
  },
  {
   "cell_type": "code",
   "execution_count": null,
   "id": "da2116d6",
   "metadata": {},
   "outputs": [],
   "source": []
  }
 ],
 "metadata": {
  "kernelspec": {
   "display_name": "Python 3 (ipykernel)",
   "language": "python",
   "name": "python3"
  },
  "language_info": {
   "codemirror_mode": {
    "name": "ipython",
    "version": 3
   },
   "file_extension": ".py",
   "mimetype": "text/x-python",
   "name": "python",
   "nbconvert_exporter": "python",
   "pygments_lexer": "ipython3",
   "version": "3.9.4"
  }
 },
 "nbformat": 4,
 "nbformat_minor": 5
}
