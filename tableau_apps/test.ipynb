{
 "cells": [
  {
   "cell_type": "code",
   "execution_count": 1,
   "id": "8cd4bbde",
   "metadata": {},
   "outputs": [],
   "source": [
    "import bs4\n",
    "import pandas as pd\n",
    "import re, datetime\n",
    "def get_soup_from_file(fp):\n",
    "        with open(fp, 'r', encoding=\"UTF-8\") as file:\n",
    "            return bs4.BeautifulSoup(str(file.read()), features=\"html.parser\")"
   ]
  },
  {
   "cell_type": "code",
   "execution_count": 2,
   "id": "a5e597ec",
   "metadata": {},
   "outputs": [],
   "source": [
    "soup =  get_soup_from_file(\"app.html\")"
   ]
  },
  {
   "cell_type": "code",
   "execution_count": 46,
   "id": "550616d0",
   "metadata": {},
   "outputs": [
    {
     "data": {
      "text/plain": [
       "{'date': datetime.date(2021, 11, 12),\n",
       " 'time': '10:21:22 AM',\n",
       " 'name': \"Let's Annotate\",\n",
       " 'images': 'https://galleryapi.tableau.com/productfiles/302/Starschema_LetsAnnotate_Shot1.gif, https://galleryapi.tableau.com/productfiles/302/Starschema_LetsAnnotate_Shot1.gif, https://galleryapi.tableau.com/productfiles/302/Starschema_LetsAnnotate_Shot2.png, https://galleryapi.tableau.com/productfiles/302/Starschema_LetsAnnotate_Shot3.png',\n",
       " 'logo': 'https://galleryapi.tableau.com/productfiles/302/Starschema_LetsAnnotate_Icon.png',\n",
       " 'details': \"Let’s Annotate! will layer Susie Lu's React Annotation library on top of your Tableau Desktop or Server App. We have built an intuitive UI to enable dashboard authors to leverage the many different types of custom annotations that are possible via the React Annotation library. Gone are the days of switching between design/presentation tools and Tableau to provide your users delightful annotations. Start by adding an annotation to the extension zone and then customize, move, hide and/or delete your annotation as need. Layer one or many instances of this extension over your dashboard to provide your users with the critical context and information they need to better understand your visualization. This extension also works well with the show/hide container functionality in Tableau. See more information on this extension from our #TC19 Presentation and also details on how to use the extension (or to submit bugs/ideas) on our GitHub Page.\\nCredits to contributors:\\n\\nChris DeMartini\\nSusie Lu (Creator of React Annotation)\\nTamas Foldi\\nAbraham Szilagyi\",\n",
       " 'sandboxed': 'Sandboxed',\n",
       " 'priceline': 'Free',\n",
       " 'developer': 'Starschema',\n",
       " 'hosted_at': 'https://extensions.tableauusercontent.com/sandbox/lets-annotate/index.html',\n",
       " 'works_with': 'Tableau 2019.4 and laterTableau Public (2020.1 and later)',\n",
       " 'examples': 'https://public.tableau.com/app/profile/vizde7382/viz/LetsAnnotateExample-D1MensGolf/NCAAD1MensChampionship'}"
      ]
     },
     "execution_count": 46,
     "metadata": {},
     "output_type": "execute_result"
    }
   ],
   "source": [
    "def scape_app_data(soup: bs4.BeautifulSoup):\n",
    "    app_data = {\"date\": datetime.date.today(), \"time\": datetime.datetime.utcnow().strftime(\"%r\")}\n",
    "    try: app_data[\"name\"] = soup.select_one('h1[data-testid=\"product_name\"]').text.strip()\n",
    "    except: app_data[\"name\"] = None\n",
    "    try: app_data[\"images\"] = \", \".join([md[\"src\"] for md in soup.select('aside[class=\"f1otqxop\"] img')])\n",
    "    except: app_data[\"images\"] = None\n",
    "    try: app_data[\"logo\"] = soup.select_one('img[data-testid=\"product_icon\"]')[\"src\"]\n",
    "    except: app_data[\"logo\"] = None\n",
    "    try: app_data[\"details\"] = soup.select_one('div[data-testid=\"detail_description\"]').text.strip()\n",
    "    except: app_data[\"details\"] = None\n",
    "    try: app_data[\"sandboxed\"] = soup.select_one('div[data-test-id=\"is-sandboxed-hover\"]').text.strip()\n",
    "    except: app_data[\"sandboxed\"] = None\n",
    "    try: app_data[\"priceline\"] = soup.select_one(\".f3llvvk:last-child\").text.strip()\n",
    "    except: app_data[\"priceline\"] = \"Paid\"\n",
    "    try: app_data[\"developer\"] = soup.select_one('span[data-testid=\"author-name\"]').text.strip()\n",
    "    except: app_data[\"developer\"] = None\n",
    "    try: app_data[\"hosted_at\"] = soup.select_one(\".f1jofppb\").text.strip()\n",
    "    except: app_data[\"hosted_at\"] = None\n",
    "    try: app_data[\"works_with\"] = [div.select_one(\"section\") for div in soup.select(\".f1o8vn7j .f1hiwvjl\") if \"Works with\" in div.text][0].text.strip()\n",
    "    except: app_data[\"works_with\"] = None\n",
    "    try: app_data[\"examples\"] = \", \".join([a['href'] for a in [section.select(\"a\") for section in soup.select(\".f1o8vn7j section\") if \"Example Dashboards\" in section.text][0]])\n",
    "    except: app_data[\"examples\"] = None\n",
    "    return app_data\n",
    "scape_app_data(soup)"
   ]
  },
  {
   "cell_type": "code",
   "execution_count": null,
   "id": "d3e70816",
   "metadata": {},
   "outputs": [],
   "source": [
    "soup.select_one(\".App\")"
   ]
  },
  {
   "cell_type": "code",
   "execution_count": 3,
   "id": "4b8a23ce",
   "metadata": {},
   "outputs": [
    {
     "data": {
      "text/plain": [
       "\"Let's Annotate\""
      ]
     },
     "execution_count": 3,
     "metadata": {},
     "output_type": "execute_result"
    }
   ],
   "source": [
    "# name\n",
    "soup.select_one('h1[data-testid=\"product_name\"]').text.strip()"
   ]
  },
  {
   "cell_type": "code",
   "execution_count": 4,
   "id": "63b4ad6c",
   "metadata": {},
   "outputs": [
    {
     "data": {
      "text/plain": [
       "'https://galleryapi.tableau.com/productfiles/302/Starschema_LetsAnnotate_Icon.png'"
      ]
     },
     "execution_count": 4,
     "metadata": {},
     "output_type": "execute_result"
    }
   ],
   "source": [
    "#logo\n",
    "soup.select_one('img[data-testid=\"product_icon\"]')[\"src\"]"
   ]
  },
  {
   "cell_type": "code",
   "execution_count": 7,
   "id": "94b42fba",
   "metadata": {},
   "outputs": [
    {
     "data": {
      "text/plain": [
       "'Starschema'"
      ]
     },
     "execution_count": 7,
     "metadata": {},
     "output_type": "execute_result"
    }
   ],
   "source": [
    "# developer\n",
    "soup.select_one('span[data-testid=\"author-name\"]').text.strip()"
   ]
  },
  {
   "cell_type": "code",
   "execution_count": 9,
   "id": "3c5e85ae",
   "metadata": {},
   "outputs": [
    {
     "data": {
      "text/plain": [
       "'Sandboxed'"
      ]
     },
     "execution_count": 9,
     "metadata": {},
     "output_type": "execute_result"
    }
   ],
   "source": [
    "# is sandboxed\n",
    "soup.select_one('div[data-test-id=\"is-sandboxed-hover\"]').text.strip()"
   ]
  },
  {
   "cell_type": "code",
   "execution_count": 41,
   "id": "25f02a87",
   "metadata": {},
   "outputs": [
    {
     "data": {
      "text/plain": [
       "'Free'"
      ]
     },
     "execution_count": 41,
     "metadata": {},
     "output_type": "execute_result"
    }
   ],
   "source": [
    "# pricing line\n",
    "soup.select_one(\".f3llvvk:last-child\").text.strip()"
   ]
  },
  {
   "cell_type": "code",
   "execution_count": 40,
   "id": "547a310c",
   "metadata": {
    "collapsed": true
   },
   "outputs": [
    {
     "data": {
      "text/plain": [
       "\"Let’s Annotate! will layer Susie Lu's React Annotation library on top of your Tableau Desktop or Server App. We have built an intuitive UI to enable dashboard authors to leverage the many different types of custom annotations that are possible via the React Annotation library. Gone are the days of switching between design/presentation tools and Tableau to provide your users delightful annotations. Start by adding an annotation to the extension zone and then customize, move, hide and/or delete your annotation as need. Layer one or many instances of this extension over your dashboard to provide your users with the critical context and information they need to better understand your visualization. This extension also works well with the show/hide container functionality in Tableau. See more information on this extension from our #TC19 Presentation and also details on how to use the extension (or to submit bugs/ideas) on our GitHub Page.\\nCredits to contributors:\\n\\nChris DeMartini\\nSusie Lu (Creator of React Annotation)\\nTamas Foldi\\nAbraham Szilagyi\""
      ]
     },
     "execution_count": 40,
     "metadata": {},
     "output_type": "execute_result"
    }
   ],
   "source": [
    "# details\n",
    "soup.select_one('div[data-testid=\"detail_description\"]').text.strip()"
   ]
  },
  {
   "cell_type": "code",
   "execution_count": 43,
   "id": "cbce4bd2",
   "metadata": {},
   "outputs": [
    {
     "data": {
      "text/plain": [
       "'https://public.tableau.com/app/profile/vizde7382/viz/LetsAnnotateExample-D1MensGolf/NCAAD1MensChampionship'"
      ]
     },
     "execution_count": 43,
     "metadata": {},
     "output_type": "execute_result"
    }
   ],
   "source": [
    "# examples\n",
    "\", \".join([a['href'] for a in [section.select(\"a\") for section in soup.select(\".f1o8vn7j section\") if \"Example Dashboards\" in section.text][0]])"
   ]
  },
  {
   "cell_type": "code",
   "execution_count": 35,
   "id": "3eae4183",
   "metadata": {},
   "outputs": [
    {
     "data": {
      "text/plain": [
       "'Tableau 2019.4 and laterTableau Public (2020.1 and later)'"
      ]
     },
     "execution_count": 35,
     "metadata": {},
     "output_type": "execute_result"
    }
   ],
   "source": [
    "# works with\n",
    "[div.select_one(\"section\") for div in soup.select(\".f1o8vn7j .f1hiwvjl\") if \"Works with\" in div.text][0].text.strip()"
   ]
  },
  {
   "cell_type": "code",
   "execution_count": 14,
   "id": "2532409a",
   "metadata": {},
   "outputs": [
    {
     "data": {
      "text/plain": [
       "'https://galleryapi.tableau.com/productfiles/302/Starschema_LetsAnnotate_Shot1.gif, https://galleryapi.tableau.com/productfiles/302/Starschema_LetsAnnotate_Shot1.gif, https://galleryapi.tableau.com/productfiles/302/Starschema_LetsAnnotate_Shot2.png, https://galleryapi.tableau.com/productfiles/302/Starschema_LetsAnnotate_Shot3.png'"
      ]
     },
     "execution_count": 14,
     "metadata": {},
     "output_type": "execute_result"
    }
   ],
   "source": [
    "# imgs\n",
    "\", \".join([md[\"src\"] for md in soup.select('aside[class=\"f1otqxop\"] img')])"
   ]
  },
  {
   "cell_type": "code",
   "execution_count": 37,
   "id": "8fbcfd10",
   "metadata": {},
   "outputs": [
    {
     "data": {
      "text/plain": [
       "'https://extensions.tableauusercontent.com/sandbox/lets-annotate/index.html'"
      ]
     },
     "execution_count": 37,
     "metadata": {},
     "output_type": "execute_result"
    }
   ],
   "source": [
    "# hosted at\n",
    "soup.select_one(\".f1jofppb\").text.strip()"
   ]
  },
  {
   "cell_type": "code",
   "execution_count": null,
   "id": "1e305e21",
   "metadata": {},
   "outputs": [],
   "source": []
  },
  {
   "cell_type": "code",
   "execution_count": null,
   "id": "059653f1",
   "metadata": {},
   "outputs": [],
   "source": []
  },
  {
   "cell_type": "code",
   "execution_count": null,
   "id": "da2116d6",
   "metadata": {},
   "outputs": [],
   "source": []
  }
 ],
 "metadata": {
  "kernelspec": {
   "display_name": "Python 3 (ipykernel)",
   "language": "python",
   "name": "python3"
  },
  "language_info": {
   "codemirror_mode": {
    "name": "ipython",
    "version": 3
   },
   "file_extension": ".py",
   "mimetype": "text/x-python",
   "name": "python",
   "nbconvert_exporter": "python",
   "pygments_lexer": "ipython3",
   "version": "3.9.4"
  }
 },
 "nbformat": 4,
 "nbformat_minor": 5
}
