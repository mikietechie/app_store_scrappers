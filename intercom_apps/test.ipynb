{
 "cells": [
  {
   "cell_type": "code",
   "execution_count": 1,
   "id": "8cd4bbde",
   "metadata": {},
   "outputs": [],
   "source": [
    "import bs4\n",
    "import pandas as pd\n",
    "import re, datetime\n",
    "def get_soup_from_file(fp):\n",
    "        with open(fp, 'r', encoding=\"UTF-8\") as file:\n",
    "            return bs4.BeautifulSoup(str(file.read()), features=\"html.parser\")"
   ]
  },
  {
   "cell_type": "code",
   "execution_count": 4,
   "id": "a5e597ec",
   "metadata": {},
   "outputs": [],
   "source": [
    "soup =  get_soup_from_file(\"app.html\")"
   ]
  },
  {
   "cell_type": "code",
   "execution_count": 38,
   "id": "550616d0",
   "metadata": {
    "collapsed": true
   },
   "outputs": [
    {
     "data": {
      "text/plain": [
       "{'date': datetime.date(2021, 11, 10),\n",
       " 'time': '11:25:23 PM',\n",
       " 'name': 'Google Analytics',\n",
       " 'images': 'https://downloads.intercomcdn.com/i/o/82706956/f00f559af14d0fffa0d2de5f/App+listing+image+1.png, https://downloads.intercomcdn.com/i/o/82706955/11919b58ac2bfcb7656ca49b/App+listing+image+2.png, https://downloads.intercomcdn.com/i/o/82706953/3d196b3e6e433c7fe1c3808e/App+listing+image+3.png',\n",
       " 'logo': 'https://static.intercomassets.com/developer-home/change-request-image-uploads/469/original/ga2-1538042919.png?1538042919',\n",
       " 'video': 'https://fast.wistia.net/embed/iframe/3u06bktcj1?autoPlay=false&muted=false',\n",
       " 'category': 'Analytics',\n",
       " 'details': 'Track visitor interactions with your Messenger and measure how visitors who use the Messenger perform through the funnel. With the Google Analytics app, you can assess which messages, custom bots, or apps have the greatest impact on conversions, so that you can optimize your funnel and maximize the impact of your Messenger on your revenue goals.The app sends to your Google Analytics account key events, including when a visitor opens or closes the Messenger, starts or replies to a conversation or message, provides an email address, or interacts with an app on the home screen or in a message or conversation. In addition, event labels are included to specify the messages, bots and apps with which visitors are interacting.Learn more about the app here and see our Intercom Messenger dashboards in the Google Analytics Solutions Gallery and the Data Studio Report Gallery.',\n",
       " 'tagline': 'Measure the impact of your Messenger on website conversions',\n",
       " 'developer': 'Built by Intercom',\n",
       " 'pricing_text': 'Some features free',\n",
       " 'similar': 'Slack, Facebook, Salesforce, Mailchimp Subscribe'}"
      ]
     },
     "execution_count": 38,
     "metadata": {},
     "output_type": "execute_result"
    }
   ],
   "source": [
    "def scape_app_data(soup: bs4.BeautifulSoup):\n",
    "    app_data = {\"date\": datetime.date.today(), \"time\": datetime.datetime.utcnow().strftime(\"%r\")}\n",
    "    try: app_data[\"name\"] = soup.select_one(\"h1.t__h1\").text.strip()\n",
    "    except: app_data[\"name\"] = None\n",
    "    try: app_data[\"images\"] = \", \".join([img[\"src\"] for img in soup.select(\".appstore__app-details__main .u__padt__10 img\")])\n",
    "    except: app_data[\"images\"] = None\n",
    "    try: app_data[\"logo\"] = soup.select_one(\"img.appstore__app-details__app-icon\")[\"src\"]\n",
    "    except: app_data[\"logo\"] = None\n",
    "    try: app_data[\"video\"] = soup.select_one(\"div.appstore__app-details__video-embed__container iframe\")['src']\n",
    "    except: app_data[\"video\"] = None\n",
    "    try: app_data[\"category\"] = \", \".join([span.text.strip() for span in soup.select(\"span.appstore__app-details__category-pill\")])\n",
    "    except: app_data[\"category\"] = None\n",
    "    try: app_data[\"details\"] = soup.select_one(\"div.intercom-interblocks\").text.strip()\n",
    "    except: app_data[\"details\"] = None\n",
    "    try: app_data[\"tagline\"] = soup.select_one(\"p.u__mr_x2\").text.strip()\n",
    "    except: app_data[\"tagline\"] = None\n",
    "    try: app_data[\"developer\"] = soup.select(\"span.appstore__app-details__header__badge-opener-text\")[0].text.strip()\n",
    "    except: app_data[\"developer\"] = None\n",
    "    try: app_data[\"pricing_text\"] = soup.select(\"span.appstore__app-details__header__badge-opener-text\")[1].text.strip()\n",
    "    except: app_data[\"pricing_text\"] = None\n",
    "    try: app_data[\"similar\"] = \", \".join([h3.text.strip() for h3 in soup.select(\".appstore__modal__grid__item h3\")])\n",
    "    except: app_data[\"similar\"] = []\n",
    "    return app_data\n",
    "scape_app_data(soup)"
   ]
  },
  {
   "cell_type": "code",
   "execution_count": 8,
   "id": "d3e70816",
   "metadata": {},
   "outputs": [],
   "source": [
    "soup.select_one(\".App\")"
   ]
  },
  {
   "cell_type": "code",
   "execution_count": 5,
   "id": "4b8a23ce",
   "metadata": {},
   "outputs": [
    {
     "ename": "AttributeError",
     "evalue": "'NoneType' object has no attribute 'text'",
     "output_type": "error",
     "traceback": [
      "\u001b[1;31m---------------------------------------------------------------------------\u001b[0m",
      "\u001b[1;31mAttributeError\u001b[0m                            Traceback (most recent call last)",
      "\u001b[1;32m~\\AppData\\Local\\Temp/ipykernel_556/336089451.py\u001b[0m in \u001b[0;36m<module>\u001b[1;34m\u001b[0m\n\u001b[0;32m      1\u001b[0m \u001b[1;31m# name\u001b[0m\u001b[1;33m\u001b[0m\u001b[1;33m\u001b[0m\u001b[1;33m\u001b[0m\u001b[0m\n\u001b[1;32m----> 2\u001b[1;33m \u001b[0msoup\u001b[0m\u001b[1;33m.\u001b[0m\u001b[0mselect_one\u001b[0m\u001b[1;33m(\u001b[0m\u001b[1;34m\".App h1\"\u001b[0m\u001b[1;33m)\u001b[0m\u001b[1;33m.\u001b[0m\u001b[0mtext\u001b[0m\u001b[1;33m.\u001b[0m\u001b[0mstrip\u001b[0m\u001b[1;33m(\u001b[0m\u001b[1;33m)\u001b[0m\u001b[1;33m\u001b[0m\u001b[1;33m\u001b[0m\u001b[0m\n\u001b[0m",
      "\u001b[1;31mAttributeError\u001b[0m: 'NoneType' object has no attribute 'text'"
     ]
    }
   ],
   "source": [
    "# name\n",
    "soup.select_one(\".App h1\").text.strip()"
   ]
  },
  {
   "cell_type": "code",
   "execution_count": 13,
   "id": "63b4ad6c",
   "metadata": {},
   "outputs": [
    {
     "data": {
      "text/plain": [
       "'https://static.intercomassets.com/developer-home/change-request-image-uploads/469/original/ga2-1538042919.png?1538042919'"
      ]
     },
     "execution_count": 13,
     "metadata": {},
     "output_type": "execute_result"
    }
   ],
   "source": [
    "#logo\n",
    "soup.select_one(\"img.appstore__app-details__app-icon\")[\"src\"]"
   ]
  },
  {
   "cell_type": "code",
   "execution_count": 18,
   "id": "cf2dd490",
   "metadata": {},
   "outputs": [
    {
     "data": {
      "text/plain": [
       "'Measure the impact of your Messenger on website conversions'"
      ]
     },
     "execution_count": 18,
     "metadata": {},
     "output_type": "execute_result"
    }
   ],
   "source": [
    "# tagline\n",
    "soup.select_one(\"p.u__mr_x2\").text.strip()"
   ]
  },
  {
   "cell_type": "code",
   "execution_count": 21,
   "id": "94b42fba",
   "metadata": {},
   "outputs": [
    {
     "data": {
      "text/plain": [
       "'Some features free'"
      ]
     },
     "execution_count": 21,
     "metadata": {},
     "output_type": "execute_result"
    }
   ],
   "source": [
    "# built by\n",
    "soup.select(\"span.appstore__app-details__header__badge-opener-text\")[0].text.strip()\n",
    "# pricing line\n",
    "soup.select(\"span.appstore__app-details__header__badge-opener-text\")[1].text.strip()"
   ]
  },
  {
   "cell_type": "code",
   "execution_count": 25,
   "id": "547a310c",
   "metadata": {
    "collapsed": true
   },
   "outputs": [
    {
     "data": {
      "text/plain": [
       "'Track visitor interactions with your Messenger and measure how visitors who use the Messenger perform through the funnel. With the Google Analytics app, you can assess which messages, custom bots, or apps have the greatest impact on conversions, so that you can optimize your funnel and maximize the impact of your Messenger on your revenue goals.The app sends to your Google Analytics account key events, including when a visitor opens or closes the Messenger, starts or replies to a conversation or message, provides an email address, or interacts with an app on the home screen or in a message or conversation. In addition, event labels are included to specify the messages, bots and apps with which visitors are interacting.Learn more about the app here and see our Intercom Messenger dashboards in the Google Analytics Solutions Gallery and the Data Studio Report Gallery.'"
      ]
     },
     "execution_count": 25,
     "metadata": {},
     "output_type": "execute_result"
    }
   ],
   "source": [
    "# details\n",
    "soup.select_one(\"div.intercom-interblocks\").text.strip()"
   ]
  },
  {
   "cell_type": "code",
   "execution_count": 27,
   "id": "00aa171e",
   "metadata": {},
   "outputs": [
    {
     "data": {
      "text/plain": [
       "'https://fast.wistia.net/embed/iframe/3u06bktcj1?autoPlay=false&muted=false'"
      ]
     },
     "execution_count": 27,
     "metadata": {},
     "output_type": "execute_result"
    }
   ],
   "source": [
    "# video\n",
    "soup.select_one(\"div.appstore__app-details__video-embed__container iframe\")['src']"
   ]
  },
  {
   "cell_type": "code",
   "execution_count": 31,
   "id": "2532409a",
   "metadata": {},
   "outputs": [
    {
     "data": {
      "text/plain": [
       "'https://downloads.intercomcdn.com/i/o/82706956/f00f559af14d0fffa0d2de5f/App+listing+image+1.png,https://downloads.intercomcdn.com/i/o/82706955/11919b58ac2bfcb7656ca49b/App+listing+image+2.png,https://downloads.intercomcdn.com/i/o/82706953/3d196b3e6e433c7fe1c3808e/App+listing+image+3.png'"
      ]
     },
     "execution_count": 31,
     "metadata": {},
     "output_type": "execute_result"
    }
   ],
   "source": [
    "# imgs\n",
    "\", \".join([img[\"src\"] for img in soup.select(\".appstore__app-details__main .u__padt__10 img\")])"
   ]
  },
  {
   "cell_type": "code",
   "execution_count": 36,
   "id": "2cd89e6b",
   "metadata": {},
   "outputs": [
    {
     "data": {
      "text/plain": [
       "'Slack, Facebook, Salesforce, Mailchimp Subscribe'"
      ]
     },
     "execution_count": 36,
     "metadata": {},
     "output_type": "execute_result"
    }
   ],
   "source": [
    "#similar\n",
    "\", \".join([h3.text.strip() for h3 in soup.select(\".appstore__modal__grid__item h3\")])"
   ]
  },
  {
   "cell_type": "code",
   "execution_count": 37,
   "id": "b4d38c19",
   "metadata": {},
   "outputs": [
    {
     "data": {
      "text/plain": [
       "'Analytics'"
      ]
     },
     "execution_count": 37,
     "metadata": {},
     "output_type": "execute_result"
    }
   ],
   "source": [
    "# category\n",
    "\", \".join([span.text.strip() for span in soup.select(\"span.appstore__app-details__category-pill\")])"
   ]
  },
  {
   "cell_type": "code",
   "execution_count": null,
   "id": "56b103b6",
   "metadata": {},
   "outputs": [],
   "source": []
  },
  {
   "cell_type": "code",
   "execution_count": null,
   "id": "1e305e21",
   "metadata": {},
   "outputs": [],
   "source": []
  },
  {
   "cell_type": "code",
   "execution_count": 69,
   "id": "059653f1",
   "metadata": {
    "collapsed": true
   },
   "outputs": [
    {
     "data": {
      "text/plain": [
       "'This Package includes 42 reports, 6 custom fields, 3 Dashboards, 1 Dashboard Folder and 1 Report Folder that focus on identifying whether users are regularly logging in and using key features in Salesforce. Downloading this app creates a \"Salesforce Adoption Dashboards” Dashboard folder and a “DB – Adoption” Report folder with their associated reports and dashboards.  This package can be leveraged with other AppExchange Adoption Dashboard packages and can also be customized to track the specific metrics that are important to your organization.  Either way, it’s a great starting point for kicking your companies’ adoption into high gear.'"
      ]
     },
     "execution_count": 69,
     "metadata": {},
     "output_type": "execute_result"
    }
   ],
   "source": []
  },
  {
   "cell_type": "code",
   "execution_count": null,
   "id": "da2116d6",
   "metadata": {},
   "outputs": [],
   "source": []
  }
 ],
 "metadata": {
  "kernelspec": {
   "display_name": "Python 3 (ipykernel)",
   "language": "python",
   "name": "python3"
  },
  "language_info": {
   "codemirror_mode": {
    "name": "ipython",
    "version": 3
   },
   "file_extension": ".py",
   "mimetype": "text/x-python",
   "name": "python",
   "nbconvert_exporter": "python",
   "pygments_lexer": "ipython3",
   "version": "3.9.4"
  }
 },
 "nbformat": 4,
 "nbformat_minor": 5
}
