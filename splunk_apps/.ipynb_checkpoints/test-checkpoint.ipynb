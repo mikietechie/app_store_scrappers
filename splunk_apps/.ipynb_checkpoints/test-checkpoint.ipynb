{
 "cells": [
  {
   "cell_type": "code",
   "execution_count": 1,
   "id": "8cd4bbde",
   "metadata": {},
   "outputs": [],
   "source": [
    "import bs4\n",
    "import pandas as pd\n",
    "import re, datetime, requests\n",
    "def get_soup_from_file(fp):\n",
    "        with open(fp, 'r', encoding=\"UTF-8\") as file:\n",
    "            return bs4.BeautifulSoup(str(file.read()), features=\"html.parser\")"
   ]
  },
  {
   "cell_type": "code",
   "execution_count": 67,
   "id": "b6948c1d",
   "metadata": {},
   "outputs": [
    {
     "data": {
      "text/plain": [
       "[0, 2, 4, 6, 5, 3, 1]"
      ]
     },
     "execution_count": 67,
     "metadata": {},
     "output_type": "execute_result"
    }
   ],
   "source": [
    "li = [None] * 7\n",
    "i = 0\n",
    "while None in li:\n",
    "    li = li[::-1]\n",
    "    li[li.index(None)] = i\n",
    "    i += 1\n",
    "li"
   ]
  },
  {
   "cell_type": "code",
   "execution_count": 79,
   "id": "681bff6d",
   "metadata": {},
   "outputs": [],
   "source": [
    "soup = get_soup_from_file(\"app1.html\")"
   ]
  },
  {
   "cell_type": "code",
   "execution_count": 81,
   "id": "d611a5b5",
   "metadata": {},
   "outputs": [
    {
     "data": {
      "text/plain": [
       "'OMICRON StationGuard for Splunk'"
      ]
     },
     "execution_count": 81,
     "metadata": {},
     "output_type": "execute_result"
    }
   ],
   "source": [
    "soup.select_one(\".c-details-hero h3\").text.strip() # name"
   ]
  },
  {
   "cell_type": "code",
   "execution_count": 80,
   "id": "471646fe",
   "metadata": {},
   "outputs": [
    {
     "data": {
      "text/plain": [
       "'https://prod.cdn.apps.splunk.com/media/public/icons/c00743de-3e21-11ec-934c-26a7459b3d03.png'"
      ]
     },
     "execution_count": 80,
     "metadata": {},
     "output_type": "execute_result"
    }
   ],
   "source": [
    "# logo\n",
    "soup.select_one(\".c-details-hero img\")[\"src\"]"
   ]
  },
  {
   "cell_type": "code",
   "execution_count": 82,
   "id": "f86988c2",
   "metadata": {},
   "outputs": [
    {
     "data": {
      "text/plain": [
       "'0'"
      ]
     },
     "execution_count": 82,
     "metadata": {},
     "output_type": "execute_result"
    }
   ],
   "source": [
    "# reviews count\n",
    "re.search(\"[0-9]+\", soup.select_one(\"sb-details-star-review-count\").text.strip()).group()"
   ]
  },
  {
   "cell_type": "code",
   "execution_count": 83,
   "id": "2ae95fd6",
   "metadata": {},
   "outputs": [
    {
     "data": {
      "text/plain": [
       "'https://prod.cdn.apps.splunk.com/media/public/screenshots/395d743a-bddd-11eb-b70f-064e466dbfd7.png,https://prod.cdn.apps.splunk.com/media/public/screenshots/34260860-bddd-11eb-8b79-06ffc77ac761.png'"
      ]
     },
     "execution_count": 83,
     "metadata": {},
     "output_type": "execute_result"
    }
   ],
   "source": [
    "# carousel links\n",
    "\",\".join([item.get(\"src\") for item in soup.select_one(\"u-carousel-swipe\").select(\"img, iframe, video\")])"
   ]
  },
  {
   "cell_type": "code",
   "execution_count": 84,
   "id": "a4a3a582",
   "metadata": {},
   "outputs": [
    {
     "data": {
      "text/plain": [
       "0"
      ]
     },
     "execution_count": 84,
     "metadata": {},
     "output_type": "execute_result"
    }
   ],
   "source": [
    "# avg rating\n",
    "len(soup.select_one(\"sb-details-star-buttons\").select(\"svg.highlighted\"))"
   ]
  },
  {
   "cell_type": "code",
   "execution_count": 86,
   "id": "830f6bca",
   "metadata": {},
   "outputs": [
    {
     "data": {
      "text/plain": [
       "'splunk'"
      ]
     },
     "execution_count": 86,
     "metadata": {},
     "output_type": "execute_result"
    }
   ],
   "source": [
    "# badge\n",
    "soup.select_one(\".c-details-hero div.no-hover.splunk.details-page\").text.strip() "
   ]
  },
  {
   "cell_type": "code",
   "execution_count": 166,
   "id": "3992f278",
   "metadata": {},
   "outputs": [
    {
     "data": {
      "text/plain": [
       "'51'"
      ]
     },
     "execution_count": 166,
     "metadata": {},
     "output_type": "execute_result"
    }
   ],
   "source": [
    "soup.select_one(\"#login-to-download\").find_previous_siblings(\"div\")[0].select_one(\".u\\.txt\\:lg\").text.strip()"
   ]
  },
  {
   "cell_type": "code",
   "execution_count": 139,
   "id": "32dae5be",
   "metadata": {},
   "outputs": [
    {
     "data": {
      "text/plain": [
       "'3'"
      ]
     },
     "execution_count": 139,
     "metadata": {},
     "output_type": "execute_result"
    }
   ],
   "source": [
    "# installs\n",
    "soup.select_one(\"#login-to-download\").find_previous_siblings(\"div\")[1].select_one(\".u\\.txt\\:lg\").text.strip()"
   ]
  },
  {
   "cell_type": "code",
   "execution_count": 138,
   "id": "3ce57cfc",
   "metadata": {},
   "outputs": [
    {
     "data": {
      "text/plain": [
       "'51'"
      ]
     },
     "execution_count": 138,
     "metadata": {},
     "output_type": "execute_result"
    }
   ],
   "source": [
    "# downloads\n",
    "soup.select_one(\"#login-to-download\").find_previous_siblings(\"div\")[0].select_one(\".u\\.txt\\:lg\").text.strip()"
   ]
  },
  {
   "cell_type": "code",
   "execution_count": 167,
   "id": "45e6a9a0",
   "metadata": {},
   "outputs": [
    {
     "data": {
      "text/plain": [
       "'http://opensource.omicronenergy.com/StationGuard/Open%20Source%20StationGuard%20App%20for%20Splunk%201.03.zip'"
      ]
     },
     "execution_count": 167,
     "metadata": {},
     "output_type": "execute_result"
    }
   ],
   "source": [
    "# licensing\n",
    "[h5 for h5 in soup.select(\"h5\") if h5.text.lower() == \"licensing\".lower()][0].find_next_sibling(\"a\")[\"href\"]"
   ]
  },
  {
   "cell_type": "code",
   "execution_count": 118,
   "id": "7b0aa1e3",
   "metadata": {},
   "outputs": [
    {
     "data": {
      "text/plain": [
       "'https://splunkbase.splunk.com/apps/#/author/christophrheinberger'"
      ]
     },
     "execution_count": 118,
     "metadata": {},
     "output_type": "execute_result"
    }
   ],
   "source": [
    "# developer\n",
    "[h5 for h5 in soup.select(\"h5\") if h5.text.lower() == \"Built by\".lower()][0].find_next_sibling(\"a\").text.strip()\n",
    "# developer url\n",
    "\"https://splunkbase.splunk.com\"+[h5 for h5 in soup.select(\"h5\") if h5.text.lower() == \"Built by\".lower()][0].find_next_sibling(\"a\")[\"href\"]"
   ]
  },
  {
   "cell_type": "code",
   "execution_count": 165,
   "id": "b71d47f8",
   "metadata": {},
   "outputs": [
    {
     "data": {
      "text/plain": [
       "'Security, Fraud & Compliance, IoT & Industrial Data'"
      ]
     },
     "execution_count": 165,
     "metadata": {},
     "output_type": "execute_result"
    }
   ],
   "source": [
    "# category\n",
    "\", \".join([a.text.strip() for a in [h5 for h5 in soup.select(\"h5\") if h5.text.lower() == \"CATEGORY & CONTENTS\".lower()][0].find_next_sibling(\"div\").select(\"a\")])"
   ]
  },
  {
   "cell_type": "code",
   "execution_count": 163,
   "id": "ccaaf9b8",
   "metadata": {},
   "outputs": [
    {
     "data": {
      "text/plain": [
       "'Products: Splunk Enterprise, Splunk Cloud Products: Splunk Enterprise, Splunk Cloud\\nCategories: Security, Fraud & Compliance, IoT & Industrial Data\\nApp Type: App\\nSplunk Versions: 8.0, 8.1, 8.2\\nPlatform: Platform Independent\\nCIM Versions: 4.x\\nSplunk Versions: 8.0, 8.1, 8.2\\nPlatform: Platform Independent\\nCIM Versions: 4.x'"
      ]
     },
     "execution_count": 163,
     "metadata": {},
     "output_type": "execute_result"
    }
   ],
   "source": [
    "# compatibility\n",
    "compatibility = [h5 for h5 in soup.select(\"h5\") if h5.text.lower() == \"compatibility\".lower()][0]\n",
    "re.compile(\"[\\s]{2,}\").sub(\" \", \"\\n\".join([el.text.strip() for el in compatibility.find_next_siblings(\"div\") + compatibility.find_next_siblings(\"sb-release-select\")]))"
   ]
  },
  {
   "cell_type": "code",
   "execution_count": null,
   "id": "c12547e2",
   "metadata": {},
   "outputs": [],
   "source": []
  },
  {
   "cell_type": "code",
   "execution_count": null,
   "id": "3c493226",
   "metadata": {},
   "outputs": [],
   "source": []
  },
  {
   "cell_type": "code",
   "execution_count": 48,
   "id": "03e9420a",
   "metadata": {},
   "outputs": [
    {
     "data": {
      "text/plain": [
       "'Version 1.1.1'"
      ]
     },
     "execution_count": 48,
     "metadata": {},
     "output_type": "execute_result"
    }
   ],
   "source": [
    "# version\n",
    "soup.select_one(\"#release-notes-version\").text.strip()"
   ]
  },
  {
   "cell_type": "code",
   "execution_count": 51,
   "id": "174c53d7",
   "metadata": {},
   "outputs": [
    {
     "data": {
      "text/plain": [
       "'Nov. 5, 2021'"
      ]
     },
     "execution_count": 51,
     "metadata": {},
     "output_type": "execute_result"
    }
   ],
   "source": [
    "# release date\n",
    "soup.select_one(\"#release-notes-version\").find_next_sibling(\"div\").text.strip()"
   ]
  },
  {
   "cell_type": "code",
   "execution_count": 56,
   "id": "19b003cc",
   "metadata": {
    "collapsed": true
   },
   "outputs": [
    {
     "data": {
      "text/plain": [
       "'For integrating StationGuard devices into a Splunk environment, OMICRON provides a preconfigured Splunk application, the OMICRON StationGuard for Splunk application (StationGuard app). This application can be used and installed on a Search Head or a single host installation of Splunk. It creates the proper Data Inputs, a SourceType and the Event types  to be used for the StationGuard logs. The fields in the syslog events are parsed and utilized in the corresponding views. These fields are then mapped to the corresponding Splunk Common information model (CIM) for Intrusion Detection. To visualize data from StationGuard devices, a Dashboard is included in the StationGuard app.'"
      ]
     },
     "execution_count": 56,
     "metadata": {},
     "output_type": "execute_result"
    }
   ],
   "source": [
    "(soup.select_one(\"#details\") or soup.select_one(\"#overview\")).text.strip()"
   ]
  },
  {
   "cell_type": "code",
   "execution_count": 109,
   "id": "e5805a07",
   "metadata": {},
   "outputs": [
    {
     "data": {
      "text/plain": [
       "'Security, Fraud & Compliance, IoT & Industrial Data'"
      ]
     },
     "execution_count": 109,
     "metadata": {},
     "output_type": "execute_result"
    }
   ],
   "source": []
  },
  {
   "cell_type": "code",
   "execution_count": 6,
   "id": "b6ffb66c",
   "metadata": {},
   "outputs": [],
   "source": []
  },
  {
   "cell_type": "code",
   "execution_count": 75,
   "id": "09c310d9",
   "metadata": {},
   "outputs": [],
   "source": [
    "soup = get_soup_from_file(\"archived.html\")"
   ]
  },
  {
   "cell_type": "code",
   "execution_count": 77,
   "id": "b664dc14",
   "metadata": {},
   "outputs": [
    {
     "data": {
      "text/plain": [
       "40"
      ]
     },
     "execution_count": 77,
     "metadata": {},
     "output_type": "execute_result"
    }
   ],
   "source": [
    "len(soup.select(\"sb-app-card-v2-1 a\"))"
   ]
  },
  {
   "cell_type": "code",
   "execution_count": 74,
   "id": "201909e0",
   "metadata": {
    "collapsed": true
   },
   "outputs": [
    {
     "data": {
      "text/plain": [
       "['https://splunkbase.splunk.com/app/5418',\n",
       " 'https://splunkbase.splunk.com/app/5418',\n",
       " 'https://splunkbase.splunk.com/app/5328',\n",
       " 'https://splunkbase.splunk.com/app/5328',\n",
       " 'https://splunkbase.splunk.com/app/6158',\n",
       " 'https://splunkbase.splunk.com/app/6158',\n",
       " 'https://splunkbase.splunk.com/app/4890',\n",
       " 'https://splunkbase.splunk.com/app/4890',\n",
       " 'https://splunkbase.splunk.com/app/4355',\n",
       " 'https://splunkbase.splunk.com/app/4355',\n",
       " 'https://splunkbase.splunk.com/app/5016',\n",
       " 'https://splunkbase.splunk.com/app/5016',\n",
       " 'https://splunkbase.splunk.com/app/5738',\n",
       " 'https://splunkbase.splunk.com/app/5738',\n",
       " 'https://splunkbase.splunk.com/app/5237',\n",
       " 'https://splunkbase.splunk.com/app/5237',\n",
       " 'https://splunkbase.splunk.com/app/4621',\n",
       " 'https://splunkbase.splunk.com/app/4621',\n",
       " 'https://splunkbase.splunk.com/app/5570',\n",
       " 'https://splunkbase.splunk.com/app/5570',\n",
       " 'https://splunkbase.splunk.com/app/5578',\n",
       " 'https://splunkbase.splunk.com/app/5578',\n",
       " 'https://splunkbase.splunk.com/app/4617',\n",
       " 'https://splunkbase.splunk.com/app/4617',\n",
       " 'https://splunkbase.splunk.com/app/4846',\n",
       " 'https://splunkbase.splunk.com/app/4846',\n",
       " 'https://splunkbase.splunk.com/app/5550',\n",
       " 'https://splunkbase.splunk.com/app/5550',\n",
       " 'https://splunkbase.splunk.com/app/4812',\n",
       " 'https://splunkbase.splunk.com/app/4812',\n",
       " 'https://splunkbase.splunk.com/app/4974',\n",
       " 'https://splunkbase.splunk.com/app/4974',\n",
       " 'https://splunkbase.splunk.com/app/5510',\n",
       " 'https://splunkbase.splunk.com/app/5510',\n",
       " 'https://splunkbase.splunk.com/app/4251',\n",
       " 'https://splunkbase.splunk.com/app/4251',\n",
       " 'https://splunkbase.splunk.com/app/5382',\n",
       " 'https://splunkbase.splunk.com/app/5382',\n",
       " 'https://splunkbase.splunk.com/app/5329',\n",
       " 'https://splunkbase.splunk.com/app/5329']"
      ]
     },
     "execution_count": 74,
     "metadata": {},
     "output_type": "execute_result"
    }
   ],
   "source": [
    "all_app_links = [f\"https://splunkbase.splunk.com{link['href']}\" for link in soup.select(\"sb-app-card-v2-1 a\")]\n",
    "all_app_links"
   ]
  },
  {
   "cell_type": "code",
   "execution_count": 169,
   "id": "550616d0",
   "metadata": {},
   "outputs": [
    {
     "data": {
      "text/plain": [
       "{'url': None,\n",
       " 'date': datetime.date(2021, 11, 9),\n",
       " 'time': '07:14:56 PM',\n",
       " 'logo': 'https://prod.cdn.apps.splunk.com/media/public/icons/c00743de-3e21-11ec-934c-26a7459b3d03.png',\n",
       " 'name': 'OMICRON StationGuard for Splunk',\n",
       " 'media': 'https://prod.cdn.apps.splunk.com/media/public/screenshots/395d743a-bddd-11eb-b70f-064e466dbfd7.png,https://prod.cdn.apps.splunk.com/media/public/screenshots/34260860-bddd-11eb-8b79-06ffc77ac761.png',\n",
       " 'release_date': 'Nov. 5, 2021',\n",
       " 'details': 'For integrating StationGuard devices into a Splunk environment, OMICRON provides a preconfigured Splunk application, the OMICRON StationGuard for Splunk application (StationGuard app). This application can be used and installed on a Search Head or a single host installation of Splunk. It creates the proper Data Inputs, a SourceType and the Event types  to be used for the StationGuard logs. The fields in the syslog events are parsed and utilized in the corresponding views. These fields are then mapped to the corresponding Splunk Common information model (CIM) for Intrusion Detection. To visualize data from StationGuard devices, a Dashboard is included in the StationGuard app.',\n",
       " 'version': 'Version 1.1.1',\n",
       " 'category': 'Security, Fraud & Compliance, IoT & Industrial Data',\n",
       " 'licensing': 'http://opensource.omicronenergy.com/StationGuard/Open%20Source%20StationGuard%20App%20for%20Splunk%201.03.zip',\n",
       " 'downloads': '51',\n",
       " 'installs': '3',\n",
       " 'headline': 'splunk',\n",
       " 'rating': 0,\n",
       " 'reviews_count': '0',\n",
       " 'developer': 'Christoph Rheinberger',\n",
       " 'website': 'https://splunkbase.splunk.com/apps/#/author/christophrheinberger',\n",
       " 'compatibility': 'Products: Splunk Enterprise, Splunk Cloud Products: Splunk Enterprise, Splunk Cloud\\nCategories: Security, Fraud & Compliance, IoT & Industrial Data\\nApp Type: App\\nSplunk Versions: 8.0, 8.1, 8.2\\nPlatform: Platform Independent\\nCIM Versions: 4.x\\nSplunk Versions: 8.0, 8.1, 8.2\\nPlatform: Platform Independent\\nCIM Versions: 4.x'}"
      ]
     },
     "execution_count": 169,
     "metadata": {},
     "output_type": "execute_result"
    }
   ],
   "source": [
    "def scape_app_data(soup: bs4.BeautifulSoup, url=None):\n",
    "    app_data = {\"url\": url, \"date\": datetime.date.today(), \"time\": datetime.datetime.utcnow().strftime(\"%r\")}\n",
    "    try: app_data[\"name\"] = soup.select_one(\".c-details-hero h3\").text.strip() # name\n",
    "    except: app_data[\"name\"] = None\n",
    "    try: app_data[\"media\"] = \",\".join([item.get(\"src\") for item in soup.select_one(\"u-carousel-swipe\").select(\"img, iframe, video\")])\n",
    "    except: app_data[\"media\"] = None\n",
    "    try: app_data[\"release_date\"] = soup.select_one(\"#release-notes-version\").find_next_sibling(\"div\").text.strip()\n",
    "    except: app_data[\"release_date\"] = None\n",
    "    try: app_data[\"details\"] = (soup.select_one(\"#details\") or soup.select_one(\"#overview\")).text.strip()\n",
    "    except: app_data[\"details\"] = None\n",
    "    try: app_data[\"version\"] = soup.select_one(\"#release-notes-version\").text.strip()\n",
    "    except: app_data[\"version\"] = None\n",
    "    try: app_data[\"logo\"] = soup.select_one(\".c-details-hero img\")[\"src\"]\n",
    "    except: app_data[\"logo\"] = None\n",
    "    try: app_data[\"category\"] = \", \".join([a.text.strip() for a in [h5 for h5 in soup.select(\"h5\") if h5.text.lower() == \"CATEGORY & CONTENTS\".lower()][0].find_next_sibling(\"div\").select(\"a\")])\n",
    "    except: app_data[\"category\"] = None\n",
    "    try: app_data[\"licensing\"] = [h5 for h5 in soup.select(\"h5\") if h5.text.lower() == \"licensing\".lower()][0].find_next_sibling(\"a\")[\"href\"]\n",
    "    except: app_data[\"licensing\"] = None\n",
    "    try: app_data[\"downloads\"] = soup.select_one(\"#login-to-download\").find_previous_siblings(\"div\")[0].select_one(\".u\\.txt\\:lg\").text.strip()\n",
    "    except: app_data[\"downloads\"] = 0\n",
    "    try: app_data[\"installs\"] = soup.select_one(\"#login-to-download\").find_previous_siblings(\"div\")[1].select_one(\".u\\.txt\\:lg\").text.strip()\n",
    "    except: app_data[\"installs\"] = 0\n",
    "    try: app_data[\"headline\"] = soup.select_one(\".c-details-hero div.no-hover.splunk.details-page\").text.strip() \n",
    "    except: app_data[\"headline\"] = None\n",
    "    try: app_data[\"rating\"] = len(soup.select_one(\"sb-details-star-buttons\").select(\"svg.highlighted\"))\n",
    "    except: app_data[\"rating\"] = None\n",
    "    try: app_data[\"reviews_count\"] = re.search(\"[0-9]+\", soup.select_one(\"sb-details-star-review-count\").text.strip()).group()\n",
    "    except: app_data[\"reviews_count\"] = None\n",
    "    try: app_data[\"developer\"] = [h5 for h5 in soup.select(\"h5\") if h5.text.lower() == \"Built by\".lower()][0].find_next_sibling(\"a\").text.strip()\n",
    "    except: app_data[\"developer\"] = None\n",
    "    try: app_data[\"website\"] = \"https://splunkbase.splunk.com\"+[h5 for h5 in soup.select(\"h5\") if h5.text.lower() == \"Built by\".lower()][0].find_next_sibling(\"a\")[\"href\"]\n",
    "    except: app_data[\"website\"] = None\n",
    "    try:\n",
    "        compatibility = [h5 for h5 in soup.select(\"h5\") if h5.text.lower() == \"compatibility\".lower()][0]\n",
    "        app_data[\"compatibility\"] = re.compile(\"[\\s]{2,}\").sub(\" \", \"\\n\".join([el.text.strip() for el in compatibility.find_next_siblings(\"div\") + compatibility.find_next_siblings(\"sb-release-select\")]))\n",
    "    except: app_data[\"compatibility\"] = None\n",
    "    return app_data\n",
    "scape_app_data(get_soup_from_file(\"app1.html\"))"
   ]
  },
  {
   "cell_type": "code",
   "execution_count": 2,
   "id": "d3e70816",
   "metadata": {},
   "outputs": [],
   "source": []
  },
  {
   "cell_type": "code",
   "execution_count": 7,
   "id": "a5e597ec",
   "metadata": {},
   "outputs": [],
   "source": []
  }
 ],
 "metadata": {
  "kernelspec": {
   "display_name": "Python 3 (ipykernel)",
   "language": "python",
   "name": "python3"
  },
  "language_info": {
   "codemirror_mode": {
    "name": "ipython",
    "version": 3
   },
   "file_extension": ".py",
   "mimetype": "text/x-python",
   "name": "python",
   "nbconvert_exporter": "python",
   "pygments_lexer": "ipython3",
   "version": "3.9.4"
  }
 },
 "nbformat": 4,
 "nbformat_minor": 5
}
